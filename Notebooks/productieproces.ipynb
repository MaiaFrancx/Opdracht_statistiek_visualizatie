{
 "cells": [
  {
   "cell_type": "markdown",
   "id": "93bc61eb",
   "metadata": {},
   "source": [
    "# Deel 1 : Productieproces\n",
    "## Imports, Directories"
   ]
  },
  {
   "cell_type": "code",
   "execution_count": 1,
   "id": "63365b5b",
   "metadata": {},
   "outputs": [],
   "source": [
    "import numpy as np\n",
    "import pandas as pd\n",
    "from datetime import datetime\n",
    "import scipy.stats\n",
    "import os\n",
    "import json\n",
    "import matplotlib.pyplot as plt"
   ]
  },
  {
   "cell_type": "code",
   "execution_count": 2,
   "id": "62478354",
   "metadata": {},
   "outputs": [
    {
     "name": "stdout",
     "output_type": "stream",
     "text": [
      "C:\\Users\\BE76820\\OneDrive - AGC\\Documents\\Syntra 2023-2024\\Adinda DS Werkplaats\\10ter GIT Statistiek Opdracht\\Notebooks\n",
      "C:\\Users\\BE76820\\OneDrive - AGC\\Documents\\Syntra 2023-2024\\Adinda DS Werkplaats\\10ter GIT Statistiek Opdracht\\Scripts\n",
      "C:\\Users\\BE76820\\OneDrive - AGC\\Documents\\Syntra 2023-2024\\Adinda DS Werkplaats\\10ter GIT Statistiek Opdracht\\Data\\Input\\Data_productie\n",
      "C:\\Users\\BE76820\\OneDrive - AGC\\Documents\\Syntra 2023-2024\\Adinda DS Werkplaats\\10ter GIT Statistiek Opdracht\\Data\\Input\\Data_productie\\Daily_production\\BRU\n",
      "C:\\Users\\BE76820\\OneDrive - AGC\\Documents\\Syntra 2023-2024\\Adinda DS Werkplaats\\10ter GIT Statistiek Opdracht\\Data\\Input\\Data_productie\\Daily_production\\STO\n"
     ]
    }
   ],
   "source": [
    "dirnb = os.getcwd()\n",
    "print(dirnb)\n",
    "\n",
    "dirscripts  = os.path.join(os.path.dirname(os.getcwd()), \"Scripts\")\n",
    "print(dirscripts)\n",
    "\n",
    "dirdataprod = os.path.join(os.path.dirname(os.getcwd()), \"Data\\Input\\Data_productie\")\n",
    "print(dirdataprod)\n",
    "\n",
    "dirbru      = os.path.join(os.path.dirname(os.getcwd()), \"Data\\Input\\Data_productie\\Daily_production\\BRU\")\n",
    "print(dirbru)\n",
    "\n",
    "dirsto      = os.path.join(os.path.dirname(os.getcwd()), \"Data\\Input\\Data_productie\\Daily_production\\STO\")\n",
    "print(dirsto)"
   ]
  },
  {
   "cell_type": "markdown",
   "id": "90aa98e7",
   "metadata": {},
   "source": [
    "## Run Scripts"
   ]
  },
  {
   "cell_type": "code",
   "execution_count": 3,
   "id": "25e64591",
   "metadata": {},
   "outputs": [
    {
     "data": {
      "text/plain": [
       "'C:\\\\Users\\\\BE76820\\\\OneDrive - AGC\\\\Documents\\\\Syntra 2023-2024\\\\Adinda DS Werkplaats\\\\10ter GIT Statistiek Opdracht\\\\Scripts'"
      ]
     },
     "execution_count": 3,
     "metadata": {},
     "output_type": "execute_result"
    }
   ],
   "source": [
    "# Temporary set \"dirscripts\" as \"cwd\" and Execute Scripts\n",
    "os.chdir(dirscripts)\n",
    "os.getcwd()"
   ]
  },
  {
   "cell_type": "code",
   "execution_count": 4,
   "id": "3ee0ccc0",
   "metadata": {},
   "outputs": [
    {
     "data": {
      "text/plain": [
       "['.gitkeep', 'df_from_json_files.py']"
      ]
     },
     "execution_count": 4,
     "metadata": {},
     "output_type": "execute_result"
    }
   ],
   "source": [
    "os.listdir()"
   ]
  },
  {
   "cell_type": "code",
   "execution_count": 5,
   "id": "59b2dc1f",
   "metadata": {},
   "outputs": [],
   "source": [
    "##### %run scripts\n"
   ]
  },
  {
   "cell_type": "markdown",
   "id": "1740e0f3",
   "metadata": {},
   "source": [
    "## Read Production Data BRU & STO"
   ]
  },
  {
   "cell_type": "code",
   "execution_count": 6,
   "id": "a434736f",
   "metadata": {},
   "outputs": [
    {
     "name": "stdout",
     "output_type": "stream",
     "text": [
      "{'BRU msr': 1244, 'STO msr': 274} 1244 274\n"
     ]
    }
   ],
   "source": [
    "# Create dictionary from input file \"master_data.json\"\n",
    "# MSR = Maximum Sustainable Rate\n",
    "\n",
    "with open(os.path.join(dirdataprod, 'master_data.json')) as file:\n",
    "    dicmsr = json.loads(file.read())\n",
    "    \n",
    "print(dicmsr, dicmsr[\"BRU msr\"], dicmsr[\"STO msr\"])\n"
   ]
  },
  {
   "cell_type": "code",
   "execution_count": 7,
   "id": "386385bc",
   "metadata": {},
   "outputs": [],
   "source": [
    "# Functie die \n",
    "# 1) de folder \"directory\" tijdelijk als \"cwd\" zet, en\n",
    "# 2) daarna een DataFrame \"df\" creëert vanuit .json files die zich in die folder \"directory\" bevinden \n",
    "\n",
    "def df_from_json_files (directory) :\n",
    "    \n",
    "    os.chdir(directory)\n",
    "    \n",
    "    data_list = []\n",
    "\n",
    "    for file in os.listdir(directory) :\n",
    "        with open(file) as file:\n",
    "            data = json.loads(file.read())\n",
    "        data_list.append(data)\n",
    "\n",
    "    df = pd.DataFrame(data_list)\n",
    "    return df  "
   ]
  },
  {
   "cell_type": "code",
   "execution_count": 8,
   "id": "110f511d",
   "metadata": {},
   "outputs": [
    {
     "data": {
      "text/html": [
       "<div>\n",
       "<style scoped>\n",
       "    .dataframe tbody tr th:only-of-type {\n",
       "        vertical-align: middle;\n",
       "    }\n",
       "\n",
       "    .dataframe tbody tr th {\n",
       "        vertical-align: top;\n",
       "    }\n",
       "\n",
       "    .dataframe thead th {\n",
       "        text-align: right;\n",
       "    }\n",
       "</style>\n",
       "<table border=\"1\" class=\"dataframe\">\n",
       "  <thead>\n",
       "    <tr style=\"text-align: right;\">\n",
       "      <th></th>\n",
       "      <th>DoW</th>\n",
       "      <th>hour</th>\n",
       "      <th>minute</th>\n",
       "      <th>date</th>\n",
       "      <th>maintenance</th>\n",
       "      <th>prod_loss</th>\n",
       "      <th>prod_loss_perc</th>\n",
       "      <th>production</th>\n",
       "      <th>City</th>\n",
       "    </tr>\n",
       "  </thead>\n",
       "  <tbody>\n",
       "    <tr>\n",
       "      <th>0</th>\n",
       "      <td>Monday</td>\n",
       "      <td>1</td>\n",
       "      <td>0</td>\n",
       "      <td>01-01-2018 00:00:00.0000</td>\n",
       "      <td>No</td>\n",
       "      <td>61</td>\n",
       "      <td>5</td>\n",
       "      <td>1183</td>\n",
       "      <td>BRU</td>\n",
       "    </tr>\n",
       "    <tr>\n",
       "      <th>1</th>\n",
       "      <td>Tuesday</td>\n",
       "      <td>1</td>\n",
       "      <td>0</td>\n",
       "      <td>01-02-2018 00:00:00.0000</td>\n",
       "      <td>No</td>\n",
       "      <td>106</td>\n",
       "      <td>9</td>\n",
       "      <td>1138</td>\n",
       "      <td>BRU</td>\n",
       "    </tr>\n",
       "    <tr>\n",
       "      <th>2</th>\n",
       "      <td>Wednesday</td>\n",
       "      <td>1</td>\n",
       "      <td>0</td>\n",
       "      <td>01-03-2018 00:00:00.0000</td>\n",
       "      <td>No</td>\n",
       "      <td>129</td>\n",
       "      <td>10</td>\n",
       "      <td>1115</td>\n",
       "      <td>BRU</td>\n",
       "    </tr>\n",
       "    <tr>\n",
       "      <th>3</th>\n",
       "      <td>Thursday</td>\n",
       "      <td>1</td>\n",
       "      <td>0</td>\n",
       "      <td>01-04-2018 00:00:00.0000</td>\n",
       "      <td>No</td>\n",
       "      <td>278</td>\n",
       "      <td>22</td>\n",
       "      <td>966</td>\n",
       "      <td>BRU</td>\n",
       "    </tr>\n",
       "    <tr>\n",
       "      <th>4</th>\n",
       "      <td>Friday</td>\n",
       "      <td>1</td>\n",
       "      <td>0</td>\n",
       "      <td>01-05-2018 00:00:00.0000</td>\n",
       "      <td>No</td>\n",
       "      <td>218</td>\n",
       "      <td>17</td>\n",
       "      <td>1026</td>\n",
       "      <td>BRU</td>\n",
       "    </tr>\n",
       "  </tbody>\n",
       "</table>\n",
       "</div>"
      ],
      "text/plain": [
       "         DoW  hour  minute                      date maintenance prod_loss  \\\n",
       "0     Monday     1       0  01-01-2018 00:00:00.0000          No        61   \n",
       "1    Tuesday     1       0  01-02-2018 00:00:00.0000          No       106   \n",
       "2  Wednesday     1       0  01-03-2018 00:00:00.0000          No       129   \n",
       "3   Thursday     1       0  01-04-2018 00:00:00.0000          No       278   \n",
       "4     Friday     1       0  01-05-2018 00:00:00.0000          No       218   \n",
       "\n",
       "  prod_loss_perc production City  \n",
       "0              5       1183  BRU  \n",
       "1              9       1138  BRU  \n",
       "2             10       1115  BRU  \n",
       "3             22        966  BRU  \n",
       "4             17       1026  BRU  "
      ]
     },
     "execution_count": 8,
     "metadata": {},
     "output_type": "execute_result"
    }
   ],
   "source": [
    "# Create dataframe \"dfbru\" dat de productiegegevens van BRU(ssel) bevat\n",
    "dfbru = df_from_json_files (dirbru)\n",
    "dfbru[\"City\"] = \"BRU\"\n",
    "dfbru.head()"
   ]
  },
  {
   "cell_type": "code",
   "execution_count": 9,
   "id": "656ccc53",
   "metadata": {},
   "outputs": [
    {
     "data": {
      "text/html": [
       "<div>\n",
       "<style scoped>\n",
       "    .dataframe tbody tr th:only-of-type {\n",
       "        vertical-align: middle;\n",
       "    }\n",
       "\n",
       "    .dataframe tbody tr th {\n",
       "        vertical-align: top;\n",
       "    }\n",
       "\n",
       "    .dataframe thead th {\n",
       "        text-align: right;\n",
       "    }\n",
       "</style>\n",
       "<table border=\"1\" class=\"dataframe\">\n",
       "  <thead>\n",
       "    <tr style=\"text-align: right;\">\n",
       "      <th></th>\n",
       "      <th>DoW</th>\n",
       "      <th>hour</th>\n",
       "      <th>minute</th>\n",
       "      <th>date</th>\n",
       "      <th>maintenance</th>\n",
       "      <th>prod_loss</th>\n",
       "      <th>prod_loss_perc</th>\n",
       "      <th>production</th>\n",
       "      <th>City</th>\n",
       "    </tr>\n",
       "  </thead>\n",
       "  <tbody>\n",
       "    <tr>\n",
       "      <th>0</th>\n",
       "      <td>Monday</td>\n",
       "      <td>1</td>\n",
       "      <td>0</td>\n",
       "      <td>01-01-2018 00:00:00.0000</td>\n",
       "      <td>No</td>\n",
       "      <td>9</td>\n",
       "      <td>3</td>\n",
       "      <td>265</td>\n",
       "      <td>STO</td>\n",
       "    </tr>\n",
       "    <tr>\n",
       "      <th>1</th>\n",
       "      <td>Tuesday</td>\n",
       "      <td>1</td>\n",
       "      <td>0</td>\n",
       "      <td>01-02-2018 00:00:00.0000</td>\n",
       "      <td>No</td>\n",
       "      <td>9</td>\n",
       "      <td>3</td>\n",
       "      <td>265</td>\n",
       "      <td>STO</td>\n",
       "    </tr>\n",
       "    <tr>\n",
       "      <th>2</th>\n",
       "      <td>Wednesday</td>\n",
       "      <td>1</td>\n",
       "      <td>0</td>\n",
       "      <td>01-03-2018 00:00:00.0000</td>\n",
       "      <td>No</td>\n",
       "      <td>18</td>\n",
       "      <td>6</td>\n",
       "      <td>256</td>\n",
       "      <td>STO</td>\n",
       "    </tr>\n",
       "    <tr>\n",
       "      <th>3</th>\n",
       "      <td>Thursday</td>\n",
       "      <td>1</td>\n",
       "      <td>0</td>\n",
       "      <td>01-04-2018 00:00:00.0000</td>\n",
       "      <td>No</td>\n",
       "      <td>22</td>\n",
       "      <td>8</td>\n",
       "      <td>252</td>\n",
       "      <td>STO</td>\n",
       "    </tr>\n",
       "    <tr>\n",
       "      <th>4</th>\n",
       "      <td>Friday</td>\n",
       "      <td>1</td>\n",
       "      <td>0</td>\n",
       "      <td>01-05-2018 00:00:00.0000</td>\n",
       "      <td>No</td>\n",
       "      <td>31</td>\n",
       "      <td>11</td>\n",
       "      <td>243</td>\n",
       "      <td>STO</td>\n",
       "    </tr>\n",
       "  </tbody>\n",
       "</table>\n",
       "</div>"
      ],
      "text/plain": [
       "         DoW  hour  minute                      date maintenance prod_loss  \\\n",
       "0     Monday     1       0  01-01-2018 00:00:00.0000          No         9   \n",
       "1    Tuesday     1       0  01-02-2018 00:00:00.0000          No         9   \n",
       "2  Wednesday     1       0  01-03-2018 00:00:00.0000          No        18   \n",
       "3   Thursday     1       0  01-04-2018 00:00:00.0000          No        22   \n",
       "4     Friday     1       0  01-05-2018 00:00:00.0000          No        31   \n",
       "\n",
       "  prod_loss_perc production City  \n",
       "0              3        265  STO  \n",
       "1              3        265  STO  \n",
       "2              6        256  STO  \n",
       "3              8        252  STO  \n",
       "4             11        243  STO  "
      ]
     },
     "execution_count": 9,
     "metadata": {},
     "output_type": "execute_result"
    }
   ],
   "source": [
    "# Create dataframe \"dfsto\" dat de productiegegevens van STO(ckholm) bevat\n",
    "dfsto = df_from_json_files (dirsto)\n",
    "dfsto[\"City\"] = \"STO\"\n",
    "dfsto.head()"
   ]
  },
  {
   "cell_type": "code",
   "execution_count": 10,
   "id": "c761734d",
   "metadata": {},
   "outputs": [
    {
     "data": {
      "text/plain": [
       "'C:\\\\Users\\\\BE76820\\\\OneDrive - AGC\\\\Documents\\\\Syntra 2023-2024\\\\Adinda DS Werkplaats\\\\10ter GIT Statistiek Opdracht\\\\Notebooks'"
      ]
     },
     "execution_count": 10,
     "metadata": {},
     "output_type": "execute_result"
    }
   ],
   "source": [
    "# Zet de directory \"dirnb\" opnieuw als \"cwd\"\n",
    "os.chdir(dirnb)\n",
    "os.getcwd()"
   ]
  },
  {
   "cell_type": "markdown",
   "id": "deb778e6",
   "metadata": {},
   "source": [
    "## Clean Production Data BRU & STO"
   ]
  },
  {
   "cell_type": "code",
   "execution_count": 11,
   "id": "6341c356",
   "metadata": {},
   "outputs": [],
   "source": [
    "def df_clean(df) :\n",
    "    df_cleaned = df.copy()\n",
    "    df_cleaned.drop([\"hour\", \"minute\"], axis = 1, inplace = True)\n",
    "    df_cleaned.replace('#MV', np.NaN, inplace = True)\n",
    "    df_cleaned.fillna(0, inplace = True)\n",
    "    df_cleaned[\"prod_loss\"] = df_cleaned[\"prod_loss\"].astype(int)\n",
    "    df_cleaned[\"prod_loss_perc\"] = df_cleaned[\"prod_loss_perc\"].astype(int)\n",
    "    df_cleaned[\"production\"] = df_cleaned[\"production\"].astype(int)\n",
    "    df_cleaned[\"date\"] = pd.to_datetime(df_cleaned[\"date\"]).dt.date\n",
    "    df_cleaned[\"date\"] = df_cleaned[\"date\"].astype('datetime64[ns]')\n",
    "    \n",
    "    return df_cleaned\n"
   ]
  },
  {
   "cell_type": "code",
   "execution_count": 12,
   "id": "7fa443b0",
   "metadata": {},
   "outputs": [
    {
     "data": {
      "text/plain": [
       "DoW                       object\n",
       "date              datetime64[ns]\n",
       "maintenance               object\n",
       "prod_loss                  int32\n",
       "prod_loss_perc             int32\n",
       "production                 int32\n",
       "City                      object\n",
       "dtype: object"
      ]
     },
     "execution_count": 12,
     "metadata": {},
     "output_type": "execute_result"
    }
   ],
   "source": [
    "dfbru1 = df_clean(dfbru)\n",
    "dfbru1.dtypes\n"
   ]
  },
  {
   "cell_type": "code",
   "execution_count": 13,
   "id": "a126b6d5",
   "metadata": {},
   "outputs": [
    {
     "data": {
      "text/html": [
       "<div>\n",
       "<style scoped>\n",
       "    .dataframe tbody tr th:only-of-type {\n",
       "        vertical-align: middle;\n",
       "    }\n",
       "\n",
       "    .dataframe tbody tr th {\n",
       "        vertical-align: top;\n",
       "    }\n",
       "\n",
       "    .dataframe thead th {\n",
       "        text-align: right;\n",
       "    }\n",
       "</style>\n",
       "<table border=\"1\" class=\"dataframe\">\n",
       "  <thead>\n",
       "    <tr style=\"text-align: right;\">\n",
       "      <th></th>\n",
       "      <th>DoW</th>\n",
       "      <th>date</th>\n",
       "      <th>maintenance</th>\n",
       "      <th>prod_loss</th>\n",
       "      <th>prod_loss_perc</th>\n",
       "      <th>production</th>\n",
       "      <th>City</th>\n",
       "    </tr>\n",
       "  </thead>\n",
       "  <tbody>\n",
       "    <tr>\n",
       "      <th>0</th>\n",
       "      <td>Monday</td>\n",
       "      <td>2018-01-01</td>\n",
       "      <td>No</td>\n",
       "      <td>61</td>\n",
       "      <td>5</td>\n",
       "      <td>1183</td>\n",
       "      <td>BRU</td>\n",
       "    </tr>\n",
       "    <tr>\n",
       "      <th>1</th>\n",
       "      <td>Tuesday</td>\n",
       "      <td>2018-01-02</td>\n",
       "      <td>No</td>\n",
       "      <td>106</td>\n",
       "      <td>9</td>\n",
       "      <td>1138</td>\n",
       "      <td>BRU</td>\n",
       "    </tr>\n",
       "    <tr>\n",
       "      <th>2</th>\n",
       "      <td>Wednesday</td>\n",
       "      <td>2018-01-03</td>\n",
       "      <td>No</td>\n",
       "      <td>129</td>\n",
       "      <td>10</td>\n",
       "      <td>1115</td>\n",
       "      <td>BRU</td>\n",
       "    </tr>\n",
       "    <tr>\n",
       "      <th>3</th>\n",
       "      <td>Thursday</td>\n",
       "      <td>2018-01-04</td>\n",
       "      <td>No</td>\n",
       "      <td>278</td>\n",
       "      <td>22</td>\n",
       "      <td>966</td>\n",
       "      <td>BRU</td>\n",
       "    </tr>\n",
       "    <tr>\n",
       "      <th>4</th>\n",
       "      <td>Friday</td>\n",
       "      <td>2018-01-05</td>\n",
       "      <td>No</td>\n",
       "      <td>218</td>\n",
       "      <td>17</td>\n",
       "      <td>1026</td>\n",
       "      <td>BRU</td>\n",
       "    </tr>\n",
       "  </tbody>\n",
       "</table>\n",
       "</div>"
      ],
      "text/plain": [
       "         DoW       date maintenance  prod_loss  prod_loss_perc  production  \\\n",
       "0     Monday 2018-01-01          No         61               5        1183   \n",
       "1    Tuesday 2018-01-02          No        106               9        1138   \n",
       "2  Wednesday 2018-01-03          No        129              10        1115   \n",
       "3   Thursday 2018-01-04          No        278              22         966   \n",
       "4     Friday 2018-01-05          No        218              17        1026   \n",
       "\n",
       "  City  \n",
       "0  BRU  \n",
       "1  BRU  \n",
       "2  BRU  \n",
       "3  BRU  \n",
       "4  BRU  "
      ]
     },
     "execution_count": 13,
     "metadata": {},
     "output_type": "execute_result"
    }
   ],
   "source": [
    "dfbru1.head()"
   ]
  },
  {
   "cell_type": "code",
   "execution_count": 14,
   "id": "f5e70881",
   "metadata": {},
   "outputs": [
    {
     "data": {
      "text/plain": [
       "DoW                       object\n",
       "date              datetime64[ns]\n",
       "maintenance               object\n",
       "prod_loss                  int32\n",
       "prod_loss_perc             int32\n",
       "production                 int32\n",
       "City                      object\n",
       "dtype: object"
      ]
     },
     "execution_count": 14,
     "metadata": {},
     "output_type": "execute_result"
    }
   ],
   "source": [
    "dfsto1 = df_clean(dfsto)\n",
    "dfsto1.dtypes\n"
   ]
  },
  {
   "cell_type": "code",
   "execution_count": 15,
   "id": "6e8fba34",
   "metadata": {},
   "outputs": [
    {
     "data": {
      "text/html": [
       "<div>\n",
       "<style scoped>\n",
       "    .dataframe tbody tr th:only-of-type {\n",
       "        vertical-align: middle;\n",
       "    }\n",
       "\n",
       "    .dataframe tbody tr th {\n",
       "        vertical-align: top;\n",
       "    }\n",
       "\n",
       "    .dataframe thead th {\n",
       "        text-align: right;\n",
       "    }\n",
       "</style>\n",
       "<table border=\"1\" class=\"dataframe\">\n",
       "  <thead>\n",
       "    <tr style=\"text-align: right;\">\n",
       "      <th></th>\n",
       "      <th>DoW</th>\n",
       "      <th>date</th>\n",
       "      <th>maintenance</th>\n",
       "      <th>prod_loss</th>\n",
       "      <th>prod_loss_perc</th>\n",
       "      <th>production</th>\n",
       "      <th>City</th>\n",
       "    </tr>\n",
       "  </thead>\n",
       "  <tbody>\n",
       "    <tr>\n",
       "      <th>0</th>\n",
       "      <td>Monday</td>\n",
       "      <td>2018-01-01</td>\n",
       "      <td>No</td>\n",
       "      <td>9</td>\n",
       "      <td>3</td>\n",
       "      <td>265</td>\n",
       "      <td>STO</td>\n",
       "    </tr>\n",
       "    <tr>\n",
       "      <th>1</th>\n",
       "      <td>Tuesday</td>\n",
       "      <td>2018-01-02</td>\n",
       "      <td>No</td>\n",
       "      <td>9</td>\n",
       "      <td>3</td>\n",
       "      <td>265</td>\n",
       "      <td>STO</td>\n",
       "    </tr>\n",
       "    <tr>\n",
       "      <th>2</th>\n",
       "      <td>Wednesday</td>\n",
       "      <td>2018-01-03</td>\n",
       "      <td>No</td>\n",
       "      <td>18</td>\n",
       "      <td>6</td>\n",
       "      <td>256</td>\n",
       "      <td>STO</td>\n",
       "    </tr>\n",
       "    <tr>\n",
       "      <th>3</th>\n",
       "      <td>Thursday</td>\n",
       "      <td>2018-01-04</td>\n",
       "      <td>No</td>\n",
       "      <td>22</td>\n",
       "      <td>8</td>\n",
       "      <td>252</td>\n",
       "      <td>STO</td>\n",
       "    </tr>\n",
       "    <tr>\n",
       "      <th>4</th>\n",
       "      <td>Friday</td>\n",
       "      <td>2018-01-05</td>\n",
       "      <td>No</td>\n",
       "      <td>31</td>\n",
       "      <td>11</td>\n",
       "      <td>243</td>\n",
       "      <td>STO</td>\n",
       "    </tr>\n",
       "  </tbody>\n",
       "</table>\n",
       "</div>"
      ],
      "text/plain": [
       "         DoW       date maintenance  prod_loss  prod_loss_perc  production  \\\n",
       "0     Monday 2018-01-01          No          9               3         265   \n",
       "1    Tuesday 2018-01-02          No          9               3         265   \n",
       "2  Wednesday 2018-01-03          No         18               6         256   \n",
       "3   Thursday 2018-01-04          No         22               8         252   \n",
       "4     Friday 2018-01-05          No         31              11         243   \n",
       "\n",
       "  City  \n",
       "0  STO  \n",
       "1  STO  \n",
       "2  STO  \n",
       "3  STO  \n",
       "4  STO  "
      ]
     },
     "execution_count": 15,
     "metadata": {},
     "output_type": "execute_result"
    }
   ],
   "source": [
    "dfsto1.head()"
   ]
  },
  {
   "cell_type": "code",
   "execution_count": 16,
   "id": "52172e66",
   "metadata": {},
   "outputs": [],
   "source": [
    "dfbru1.to_excel(\"bru1.xlsx\", index = False)\n",
    "dfsto1.to_excel(\"sto1.xlsx\", index = False)"
   ]
  },
  {
   "cell_type": "markdown",
   "id": "2024a047",
   "metadata": {},
   "source": [
    "## Analyse Production Data BRU"
   ]
  },
  {
   "cell_type": "code",
   "execution_count": 17,
   "id": "03930f9e",
   "metadata": {},
   "outputs": [
    {
     "data": {
      "text/plain": [
       "<matplotlib.lines.Line2D at 0x1a0b50d7110>"
      ]
     },
     "execution_count": 17,
     "metadata": {},
     "output_type": "execute_result"
    },
    {
     "data": {
      "image/png": "[encoded data removed]",
      "text/plain": [
       "<Figure size 640x480 with 1 Axes>"
      ]
     },
     "metadata": {},
     "output_type": "display_data"
    }
   ],
   "source": [
    "dfbru1.plot(\"date\",\"production\")\n",
    "plt.axhline(dicmsr[\"BRU msr\"], color = 'r')"
   ]
  }
 ],
 "metadata": {
  "kernelspec": {
   "display_name": "Python 3 (ipykernel)",
   "language": "python",
   "name": "python3"
  },
  "language_info": {
   "codemirror_mode": {
    "name": "ipython",
    "version": 3
   },
   "file_extension": ".py",
   "mimetype": "text/x-python",
   "name": "python",
   "nbconvert_exporter": "python",
   "pygments_lexer": "ipython3",
   "version": "3.11.4"
  }
 },
 "nbformat": 4,
 "nbformat_minor": 5
}
