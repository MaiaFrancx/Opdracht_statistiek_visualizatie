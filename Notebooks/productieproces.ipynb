{
 "cells": [
  {
   "cell_type": "markdown",
   "id": "93bc61eb",
   "metadata": {},
   "source": [
    "# Deel 1 : Productieproces\n",
    "## Imports, Directories"
   ]
  },
  {
   "cell_type": "code",
   "execution_count": 1,
   "id": "63365b5b",
   "metadata": {},
   "outputs": [],
   "source": [
    "import numpy as np\n",
    "import pandas as pd\n",
    "from datetime import datetime\n",
    "import scipy.stats\n",
    "import os\n",
    "import json\n",
    "import matplotlib.pyplot as plt\n",
    "from scipy.stats import norm"
   ]
  },
  {
   "cell_type": "code",
   "execution_count": 2,
   "id": "62478354",
   "metadata": {},
   "outputs": [
    {
     "name": "stdout",
     "output_type": "stream",
     "text": [
      "C:\\Users\\BE76820\\OneDrive - AGC\\Documents\\Syntra 2023-2024\\Adinda DS Werkplaats\\10ter GIT Statistiek Opdracht\\Notebooks\n",
      "C:\\Users\\BE76820\\OneDrive - AGC\\Documents\\Syntra 2023-2024\\Adinda DS Werkplaats\\10ter GIT Statistiek Opdracht\\Scripts\n",
      "C:\\Users\\BE76820\\OneDrive - AGC\\Documents\\Syntra 2023-2024\\Adinda DS Werkplaats\\10ter GIT Statistiek Opdracht\\Data\\Input\\Data_productie\n",
      "C:\\Users\\BE76820\\OneDrive - AGC\\Documents\\Syntra 2023-2024\\Adinda DS Werkplaats\\10ter GIT Statistiek Opdracht\\Data\\Input\\Data_productie\\Daily_production\\BRU\n",
      "C:\\Users\\BE76820\\OneDrive - AGC\\Documents\\Syntra 2023-2024\\Adinda DS Werkplaats\\10ter GIT Statistiek Opdracht\\Data\\Input\\Data_productie\\Daily_production\\STO\n"
     ]
    }
   ],
   "source": [
    "dirnb = os.getcwd()\n",
    "print(dirnb)\n",
    "\n",
    "dirscripts  = os.path.join(os.path.dirname(os.getcwd()), \"Scripts\")\n",
    "print(dirscripts)\n",
    "\n",
    "dirdataprod = os.path.join(os.path.dirname(os.getcwd()), \"Data\\Input\\Data_productie\")\n",
    "print(dirdataprod)\n",
    "\n",
    "dirbru      = os.path.join(os.path.dirname(os.getcwd()), \"Data\\Input\\Data_productie\\Daily_production\\BRU\")\n",
    "print(dirbru)\n",
    "\n",
    "dirsto      = os.path.join(os.path.dirname(os.getcwd()), \"Data\\Input\\Data_productie\\Daily_production\\STO\")\n",
    "print(dirsto)"
   ]
  },
  {
   "cell_type": "markdown",
   "id": "90aa98e7",
   "metadata": {},
   "source": [
    "## Run Scripts"
   ]
  },
  {
   "cell_type": "code",
   "execution_count": 3,
   "id": "25e64591",
   "metadata": {},
   "outputs": [
    {
     "data": {
      "text/plain": [
       "'C:\\\\Users\\\\BE76820\\\\OneDrive - AGC\\\\Documents\\\\Syntra 2023-2024\\\\Adinda DS Werkplaats\\\\10ter GIT Statistiek Opdracht\\\\Scripts'"
      ]
     },
     "execution_count": 3,
     "metadata": {},
     "output_type": "execute_result"
    }
   ],
   "source": [
    "# Temporary set \"dirscripts\" as \"cwd\" and Execute Scripts\n",
    "os.chdir(dirscripts)\n",
    "os.getcwd()"
   ]
  },
  {
   "cell_type": "code",
   "execution_count": 4,
   "id": "3ee0ccc0",
   "metadata": {},
   "outputs": [
    {
     "data": {
      "text/plain": [
       "['.gitkeep', 'df_from_json_files.py']"
      ]
     },
     "execution_count": 4,
     "metadata": {},
     "output_type": "execute_result"
    }
   ],
   "source": [
    "os.listdir()"
   ]
  },
  {
   "cell_type": "code",
   "execution_count": 5,
   "id": "59b2dc1f",
   "metadata": {},
   "outputs": [],
   "source": [
    "##### %run scripts\n"
   ]
  },
  {
   "cell_type": "markdown",
   "id": "1740e0f3",
   "metadata": {},
   "source": [
    "## Read Production Data BRU & STO"
   ]
  },
  {
   "cell_type": "code",
   "execution_count": 6,
   "id": "a434736f",
   "metadata": {},
   "outputs": [
    {
     "name": "stdout",
     "output_type": "stream",
     "text": [
      "{'BRU msr': 1244, 'STO msr': 274} 1244 274\n"
     ]
    }
   ],
   "source": [
    "# Create dictionary from input file \"master_data.json\"\n",
    "# MSR = Maximum Sustainable Rate\n",
    "\n",
    "with open(os.path.join(dirdataprod, 'master_data.json')) as file:\n",
    "    dicmsr = json.loads(file.read())\n",
    "    \n",
    "print(dicmsr, dicmsr[\"BRU msr\"], dicmsr[\"STO msr\"])\n"
   ]
  },
  {
   "cell_type": "code",
   "execution_count": 7,
   "id": "386385bc",
   "metadata": {},
   "outputs": [],
   "source": [
    "# Functie die \n",
    "# 1) de folder \"directory\" tijdelijk als \"cwd\" zet, en\n",
    "# 2) daarna een DataFrame \"df\" creëert vanuit .json files die zich in die folder \"directory\" bevinden \n",
    "\n",
    "def df_from_json_files (directory) :\n",
    "    \n",
    "    os.chdir(directory)\n",
    "    \n",
    "    data_list = []\n",
    "\n",
    "    for file in os.listdir(directory) :\n",
    "        with open(file) as file:\n",
    "            data = json.loads(file.read())\n",
    "        data_list.append(data)\n",
    "\n",
    "    df = pd.DataFrame(data_list)\n",
    "    return df  "
   ]
  },
  {
   "cell_type": "code",
   "execution_count": 8,
   "id": "110f511d",
   "metadata": {},
   "outputs": [
    {
     "data": {
      "text/html": [
       "<div>\n",
       "<style scoped>\n",
       "    .dataframe tbody tr th:only-of-type {\n",
       "        vertical-align: middle;\n",
       "    }\n",
       "\n",
       "    .dataframe tbody tr th {\n",
       "        vertical-align: top;\n",
       "    }\n",
       "\n",
       "    .dataframe thead th {\n",
       "        text-align: right;\n",
       "    }\n",
       "</style>\n",
       "<table border=\"1\" class=\"dataframe\">\n",
       "  <thead>\n",
       "    <tr style=\"text-align: right;\">\n",
       "      <th></th>\n",
       "      <th>DoW</th>\n",
       "      <th>hour</th>\n",
       "      <th>minute</th>\n",
       "      <th>date</th>\n",
       "      <th>maintenance</th>\n",
       "      <th>prod_loss</th>\n",
       "      <th>prod_loss_perc</th>\n",
       "      <th>production</th>\n",
       "      <th>City</th>\n",
       "    </tr>\n",
       "  </thead>\n",
       "  <tbody>\n",
       "    <tr>\n",
       "      <th>0</th>\n",
       "      <td>Monday</td>\n",
       "      <td>1</td>\n",
       "      <td>0</td>\n",
       "      <td>01-01-2018 00:00:00.0000</td>\n",
       "      <td>No</td>\n",
       "      <td>61</td>\n",
       "      <td>5</td>\n",
       "      <td>1183</td>\n",
       "      <td>BRU</td>\n",
       "    </tr>\n",
       "    <tr>\n",
       "      <th>1</th>\n",
       "      <td>Tuesday</td>\n",
       "      <td>1</td>\n",
       "      <td>0</td>\n",
       "      <td>01-02-2018 00:00:00.0000</td>\n",
       "      <td>No</td>\n",
       "      <td>106</td>\n",
       "      <td>9</td>\n",
       "      <td>1138</td>\n",
       "      <td>BRU</td>\n",
       "    </tr>\n",
       "    <tr>\n",
       "      <th>2</th>\n",
       "      <td>Wednesday</td>\n",
       "      <td>1</td>\n",
       "      <td>0</td>\n",
       "      <td>01-03-2018 00:00:00.0000</td>\n",
       "      <td>No</td>\n",
       "      <td>129</td>\n",
       "      <td>10</td>\n",
       "      <td>1115</td>\n",
       "      <td>BRU</td>\n",
       "    </tr>\n",
       "    <tr>\n",
       "      <th>3</th>\n",
       "      <td>Thursday</td>\n",
       "      <td>1</td>\n",
       "      <td>0</td>\n",
       "      <td>01-04-2018 00:00:00.0000</td>\n",
       "      <td>No</td>\n",
       "      <td>278</td>\n",
       "      <td>22</td>\n",
       "      <td>966</td>\n",
       "      <td>BRU</td>\n",
       "    </tr>\n",
       "    <tr>\n",
       "      <th>4</th>\n",
       "      <td>Friday</td>\n",
       "      <td>1</td>\n",
       "      <td>0</td>\n",
       "      <td>01-05-2018 00:00:00.0000</td>\n",
       "      <td>No</td>\n",
       "      <td>218</td>\n",
       "      <td>17</td>\n",
       "      <td>1026</td>\n",
       "      <td>BRU</td>\n",
       "    </tr>\n",
       "  </tbody>\n",
       "</table>\n",
       "</div>"
      ],
      "text/plain": [
       "         DoW  hour  minute                      date maintenance prod_loss  \\\n",
       "0     Monday     1       0  01-01-2018 00:00:00.0000          No        61   \n",
       "1    Tuesday     1       0  01-02-2018 00:00:00.0000          No       106   \n",
       "2  Wednesday     1       0  01-03-2018 00:00:00.0000          No       129   \n",
       "3   Thursday     1       0  01-04-2018 00:00:00.0000          No       278   \n",
       "4     Friday     1       0  01-05-2018 00:00:00.0000          No       218   \n",
       "\n",
       "  prod_loss_perc production City  \n",
       "0              5       1183  BRU  \n",
       "1              9       1138  BRU  \n",
       "2             10       1115  BRU  \n",
       "3             22        966  BRU  \n",
       "4             17       1026  BRU  "
      ]
     },
     "execution_count": 8,
     "metadata": {},
     "output_type": "execute_result"
    }
   ],
   "source": [
    "# Create dataframe \"dfbru\" dat de productiegegevens van BRU(ssel) bevat\n",
    "dfbru = df_from_json_files (dirbru)\n",
    "dfbru[\"City\"] = \"BRU\"\n",
    "dfbru.head()"
   ]
  },
  {
   "cell_type": "code",
   "execution_count": 9,
   "id": "656ccc53",
   "metadata": {},
   "outputs": [
    {
     "data": {
      "text/html": [
       "<div>\n",
       "<style scoped>\n",
       "    .dataframe tbody tr th:only-of-type {\n",
       "        vertical-align: middle;\n",
       "    }\n",
       "\n",
       "    .dataframe tbody tr th {\n",
       "        vertical-align: top;\n",
       "    }\n",
       "\n",
       "    .dataframe thead th {\n",
       "        text-align: right;\n",
       "    }\n",
       "</style>\n",
       "<table border=\"1\" class=\"dataframe\">\n",
       "  <thead>\n",
       "    <tr style=\"text-align: right;\">\n",
       "      <th></th>\n",
       "      <th>DoW</th>\n",
       "      <th>hour</th>\n",
       "      <th>minute</th>\n",
       "      <th>date</th>\n",
       "      <th>maintenance</th>\n",
       "      <th>prod_loss</th>\n",
       "      <th>prod_loss_perc</th>\n",
       "      <th>production</th>\n",
       "      <th>City</th>\n",
       "    </tr>\n",
       "  </thead>\n",
       "  <tbody>\n",
       "    <tr>\n",
       "      <th>0</th>\n",
       "      <td>Monday</td>\n",
       "      <td>1</td>\n",
       "      <td>0</td>\n",
       "      <td>01-01-2018 00:00:00.0000</td>\n",
       "      <td>No</td>\n",
       "      <td>9</td>\n",
       "      <td>3</td>\n",
       "      <td>265</td>\n",
       "      <td>STO</td>\n",
       "    </tr>\n",
       "    <tr>\n",
       "      <th>1</th>\n",
       "      <td>Tuesday</td>\n",
       "      <td>1</td>\n",
       "      <td>0</td>\n",
       "      <td>01-02-2018 00:00:00.0000</td>\n",
       "      <td>No</td>\n",
       "      <td>9</td>\n",
       "      <td>3</td>\n",
       "      <td>265</td>\n",
       "      <td>STO</td>\n",
       "    </tr>\n",
       "    <tr>\n",
       "      <th>2</th>\n",
       "      <td>Wednesday</td>\n",
       "      <td>1</td>\n",
       "      <td>0</td>\n",
       "      <td>01-03-2018 00:00:00.0000</td>\n",
       "      <td>No</td>\n",
       "      <td>18</td>\n",
       "      <td>6</td>\n",
       "      <td>256</td>\n",
       "      <td>STO</td>\n",
       "    </tr>\n",
       "    <tr>\n",
       "      <th>3</th>\n",
       "      <td>Thursday</td>\n",
       "      <td>1</td>\n",
       "      <td>0</td>\n",
       "      <td>01-04-2018 00:00:00.0000</td>\n",
       "      <td>No</td>\n",
       "      <td>22</td>\n",
       "      <td>8</td>\n",
       "      <td>252</td>\n",
       "      <td>STO</td>\n",
       "    </tr>\n",
       "    <tr>\n",
       "      <th>4</th>\n",
       "      <td>Friday</td>\n",
       "      <td>1</td>\n",
       "      <td>0</td>\n",
       "      <td>01-05-2018 00:00:00.0000</td>\n",
       "      <td>No</td>\n",
       "      <td>31</td>\n",
       "      <td>11</td>\n",
       "      <td>243</td>\n",
       "      <td>STO</td>\n",
       "    </tr>\n",
       "  </tbody>\n",
       "</table>\n",
       "</div>"
      ],
      "text/plain": [
       "         DoW  hour  minute                      date maintenance prod_loss  \\\n",
       "0     Monday     1       0  01-01-2018 00:00:00.0000          No         9   \n",
       "1    Tuesday     1       0  01-02-2018 00:00:00.0000          No         9   \n",
       "2  Wednesday     1       0  01-03-2018 00:00:00.0000          No        18   \n",
       "3   Thursday     1       0  01-04-2018 00:00:00.0000          No        22   \n",
       "4     Friday     1       0  01-05-2018 00:00:00.0000          No        31   \n",
       "\n",
       "  prod_loss_perc production City  \n",
       "0              3        265  STO  \n",
       "1              3        265  STO  \n",
       "2              6        256  STO  \n",
       "3              8        252  STO  \n",
       "4             11        243  STO  "
      ]
     },
     "execution_count": 9,
     "metadata": {},
     "output_type": "execute_result"
    }
   ],
   "source": [
    "# Create dataframe \"dfsto\" dat de productiegegevens van STO(ckholm) bevat\n",
    "dfsto = df_from_json_files (dirsto)\n",
    "dfsto[\"City\"] = \"STO\"\n",
    "dfsto.head()"
   ]
  },
  {
   "cell_type": "code",
   "execution_count": 10,
   "id": "c761734d",
   "metadata": {},
   "outputs": [
    {
     "data": {
      "text/plain": [
       "'C:\\\\Users\\\\BE76820\\\\OneDrive - AGC\\\\Documents\\\\Syntra 2023-2024\\\\Adinda DS Werkplaats\\\\10ter GIT Statistiek Opdracht\\\\Notebooks'"
      ]
     },
     "execution_count": 10,
     "metadata": {},
     "output_type": "execute_result"
    }
   ],
   "source": [
    "# Zet de directory \"dirnb\" opnieuw als \"cwd\"\n",
    "os.chdir(dirnb)\n",
    "os.getcwd()"
   ]
  },
  {
   "cell_type": "markdown",
   "id": "deb778e6",
   "metadata": {},
   "source": [
    "## Clean Production Data BRU & STO"
   ]
  },
  {
   "cell_type": "code",
   "execution_count": 11,
   "id": "6341c356",
   "metadata": {},
   "outputs": [],
   "source": [
    "def df_clean(df) :\n",
    "    df_cleaned = df.copy()\n",
    "    df_cleaned.drop([\"hour\", \"minute\"], axis = 1, inplace = True)\n",
    "    df_cleaned.replace('#MV', np.NaN, inplace = True)\n",
    "    df_cleaned.fillna(0, inplace = True)\n",
    "    df_cleaned[\"prod_loss\"] = df_cleaned[\"prod_loss\"].astype(int)\n",
    "    df_cleaned[\"prod_loss_perc\"] = df_cleaned[\"prod_loss_perc\"].astype(int)\n",
    "    df_cleaned[\"production\"] = df_cleaned[\"production\"].astype(int)\n",
    "    df_cleaned[\"date\"] = pd.to_datetime(df_cleaned[\"date\"]).dt.date\n",
    "    df_cleaned[\"date\"] = df_cleaned[\"date\"].astype('datetime64[ns]')\n",
    "    \n",
    "    return df_cleaned\n"
   ]
  },
  {
   "cell_type": "code",
   "execution_count": 12,
   "id": "7fa443b0",
   "metadata": {},
   "outputs": [
    {
     "data": {
      "text/plain": [
       "DoW                       object\n",
       "date              datetime64[ns]\n",
       "maintenance               object\n",
       "prod_loss                  int32\n",
       "prod_loss_perc             int32\n",
       "production                 int32\n",
       "City                      object\n",
       "dtype: object"
      ]
     },
     "execution_count": 12,
     "metadata": {},
     "output_type": "execute_result"
    }
   ],
   "source": [
    "dfbru1 = df_clean(dfbru)\n",
    "dfbru1.dtypes\n"
   ]
  },
  {
   "cell_type": "code",
   "execution_count": 13,
   "id": "a126b6d5",
   "metadata": {},
   "outputs": [
    {
     "data": {
      "text/html": [
       "<div>\n",
       "<style scoped>\n",
       "    .dataframe tbody tr th:only-of-type {\n",
       "        vertical-align: middle;\n",
       "    }\n",
       "\n",
       "    .dataframe tbody tr th {\n",
       "        vertical-align: top;\n",
       "    }\n",
       "\n",
       "    .dataframe thead th {\n",
       "        text-align: right;\n",
       "    }\n",
       "</style>\n",
       "<table border=\"1\" class=\"dataframe\">\n",
       "  <thead>\n",
       "    <tr style=\"text-align: right;\">\n",
       "      <th></th>\n",
       "      <th>DoW</th>\n",
       "      <th>date</th>\n",
       "      <th>maintenance</th>\n",
       "      <th>prod_loss</th>\n",
       "      <th>prod_loss_perc</th>\n",
       "      <th>production</th>\n",
       "      <th>City</th>\n",
       "    </tr>\n",
       "  </thead>\n",
       "  <tbody>\n",
       "    <tr>\n",
       "      <th>0</th>\n",
       "      <td>Monday</td>\n",
       "      <td>2018-01-01</td>\n",
       "      <td>No</td>\n",
       "      <td>61</td>\n",
       "      <td>5</td>\n",
       "      <td>1183</td>\n",
       "      <td>BRU</td>\n",
       "    </tr>\n",
       "    <tr>\n",
       "      <th>1</th>\n",
       "      <td>Tuesday</td>\n",
       "      <td>2018-01-02</td>\n",
       "      <td>No</td>\n",
       "      <td>106</td>\n",
       "      <td>9</td>\n",
       "      <td>1138</td>\n",
       "      <td>BRU</td>\n",
       "    </tr>\n",
       "    <tr>\n",
       "      <th>2</th>\n",
       "      <td>Wednesday</td>\n",
       "      <td>2018-01-03</td>\n",
       "      <td>No</td>\n",
       "      <td>129</td>\n",
       "      <td>10</td>\n",
       "      <td>1115</td>\n",
       "      <td>BRU</td>\n",
       "    </tr>\n",
       "    <tr>\n",
       "      <th>3</th>\n",
       "      <td>Thursday</td>\n",
       "      <td>2018-01-04</td>\n",
       "      <td>No</td>\n",
       "      <td>278</td>\n",
       "      <td>22</td>\n",
       "      <td>966</td>\n",
       "      <td>BRU</td>\n",
       "    </tr>\n",
       "    <tr>\n",
       "      <th>4</th>\n",
       "      <td>Friday</td>\n",
       "      <td>2018-01-05</td>\n",
       "      <td>No</td>\n",
       "      <td>218</td>\n",
       "      <td>17</td>\n",
       "      <td>1026</td>\n",
       "      <td>BRU</td>\n",
       "    </tr>\n",
       "  </tbody>\n",
       "</table>\n",
       "</div>"
      ],
      "text/plain": [
       "         DoW       date maintenance  prod_loss  prod_loss_perc  production  \\\n",
       "0     Monday 2018-01-01          No         61               5        1183   \n",
       "1    Tuesday 2018-01-02          No        106               9        1138   \n",
       "2  Wednesday 2018-01-03          No        129              10        1115   \n",
       "3   Thursday 2018-01-04          No        278              22         966   \n",
       "4     Friday 2018-01-05          No        218              17        1026   \n",
       "\n",
       "  City  \n",
       "0  BRU  \n",
       "1  BRU  \n",
       "2  BRU  \n",
       "3  BRU  \n",
       "4  BRU  "
      ]
     },
     "execution_count": 13,
     "metadata": {},
     "output_type": "execute_result"
    }
   ],
   "source": [
    "dfbru1.head()"
   ]
  },
  {
   "cell_type": "code",
   "execution_count": 14,
   "id": "f5e70881",
   "metadata": {},
   "outputs": [
    {
     "data": {
      "text/plain": [
       "DoW                       object\n",
       "date              datetime64[ns]\n",
       "maintenance               object\n",
       "prod_loss                  int32\n",
       "prod_loss_perc             int32\n",
       "production                 int32\n",
       "City                      object\n",
       "dtype: object"
      ]
     },
     "execution_count": 14,
     "metadata": {},
     "output_type": "execute_result"
    }
   ],
   "source": [
    "dfsto1 = df_clean(dfsto)\n",
    "dfsto1.dtypes\n"
   ]
  },
  {
   "cell_type": "code",
   "execution_count": 15,
   "id": "6e8fba34",
   "metadata": {},
   "outputs": [
    {
     "data": {
      "text/html": [
       "<div>\n",
       "<style scoped>\n",
       "    .dataframe tbody tr th:only-of-type {\n",
       "        vertical-align: middle;\n",
       "    }\n",
       "\n",
       "    .dataframe tbody tr th {\n",
       "        vertical-align: top;\n",
       "    }\n",
       "\n",
       "    .dataframe thead th {\n",
       "        text-align: right;\n",
       "    }\n",
       "</style>\n",
       "<table border=\"1\" class=\"dataframe\">\n",
       "  <thead>\n",
       "    <tr style=\"text-align: right;\">\n",
       "      <th></th>\n",
       "      <th>DoW</th>\n",
       "      <th>date</th>\n",
       "      <th>maintenance</th>\n",
       "      <th>prod_loss</th>\n",
       "      <th>prod_loss_perc</th>\n",
       "      <th>production</th>\n",
       "      <th>City</th>\n",
       "    </tr>\n",
       "  </thead>\n",
       "  <tbody>\n",
       "    <tr>\n",
       "      <th>0</th>\n",
       "      <td>Monday</td>\n",
       "      <td>2018-01-01</td>\n",
       "      <td>No</td>\n",
       "      <td>9</td>\n",
       "      <td>3</td>\n",
       "      <td>265</td>\n",
       "      <td>STO</td>\n",
       "    </tr>\n",
       "    <tr>\n",
       "      <th>1</th>\n",
       "      <td>Tuesday</td>\n",
       "      <td>2018-01-02</td>\n",
       "      <td>No</td>\n",
       "      <td>9</td>\n",
       "      <td>3</td>\n",
       "      <td>265</td>\n",
       "      <td>STO</td>\n",
       "    </tr>\n",
       "    <tr>\n",
       "      <th>2</th>\n",
       "      <td>Wednesday</td>\n",
       "      <td>2018-01-03</td>\n",
       "      <td>No</td>\n",
       "      <td>18</td>\n",
       "      <td>6</td>\n",
       "      <td>256</td>\n",
       "      <td>STO</td>\n",
       "    </tr>\n",
       "    <tr>\n",
       "      <th>3</th>\n",
       "      <td>Thursday</td>\n",
       "      <td>2018-01-04</td>\n",
       "      <td>No</td>\n",
       "      <td>22</td>\n",
       "      <td>8</td>\n",
       "      <td>252</td>\n",
       "      <td>STO</td>\n",
       "    </tr>\n",
       "    <tr>\n",
       "      <th>4</th>\n",
       "      <td>Friday</td>\n",
       "      <td>2018-01-05</td>\n",
       "      <td>No</td>\n",
       "      <td>31</td>\n",
       "      <td>11</td>\n",
       "      <td>243</td>\n",
       "      <td>STO</td>\n",
       "    </tr>\n",
       "  </tbody>\n",
       "</table>\n",
       "</div>"
      ],
      "text/plain": [
       "         DoW       date maintenance  prod_loss  prod_loss_perc  production  \\\n",
       "0     Monday 2018-01-01          No          9               3         265   \n",
       "1    Tuesday 2018-01-02          No          9               3         265   \n",
       "2  Wednesday 2018-01-03          No         18               6         256   \n",
       "3   Thursday 2018-01-04          No         22               8         252   \n",
       "4     Friday 2018-01-05          No         31              11         243   \n",
       "\n",
       "  City  \n",
       "0  STO  \n",
       "1  STO  \n",
       "2  STO  \n",
       "3  STO  \n",
       "4  STO  "
      ]
     },
     "execution_count": 15,
     "metadata": {},
     "output_type": "execute_result"
    }
   ],
   "source": [
    "dfsto1.head()"
   ]
  },
  {
   "cell_type": "code",
   "execution_count": 16,
   "id": "52172e66",
   "metadata": {},
   "outputs": [],
   "source": [
    "# dfbru1.to_excel(\"bru1.xlsx\", index = False)\n",
    "# dfsto1.to_excel(\"sto1.xlsx\", index = False)"
   ]
  },
  {
   "cell_type": "markdown",
   "id": "2024a047",
   "metadata": {},
   "source": [
    "## Analyse Production Data BRU"
   ]
  },
  {
   "cell_type": "code",
   "execution_count": 17,
   "id": "03930f9e",
   "metadata": {
    "scrolled": true
   },
   "outputs": [
    {
     "data": {
      "text/plain": [
       "<matplotlib.lines.Line2D at 0x1695a837b10>"
      ]
     },
     "execution_count": 17,
     "metadata": {},
     "output_type": "execute_result"
    },
    {
     "data": {
      "image/png": "[encoded data removed]",
      "text/plain": [
       "<Figure size 640x480 with 1 Axes>"
      ]
     },
     "metadata": {},
     "output_type": "display_data"
    }
   ],
   "source": [
    "# Productie over voorbije jaren visualiseren (ter info)\n",
    "dfbru1.plot(\"date\", \"production\")\n",
    "plt.axhline(dicmsr[\"BRU msr\"], color = 'r')"
   ]
  },
  {
   "cell_type": "code",
   "execution_count": 18,
   "id": "6d330563",
   "metadata": {},
   "outputs": [],
   "source": [
    "# Maintenance dagen verwijderen\n",
    "dfp = dfbru1.loc[dfbru1[\"maintenance\"] == \"No\",:].copy()\n",
    "dfp.reset_index(inplace = True)\n",
    "#display(dfp)"
   ]
  },
  {
   "cell_type": "code",
   "execution_count": 19,
   "id": "855dc270",
   "metadata": {},
   "outputs": [
    {
     "data": {
      "text/plain": [
       "array([[<Axes: title={'center': 'production'}>]], dtype=object)"
      ]
     },
     "execution_count": 19,
     "metadata": {},
     "output_type": "execute_result"
    },
    {
     "data": {
      "image/png": "[encoded data removed]",
      "text/plain": [
       "<Figure size 640x480 with 1 Axes>"
      ]
     },
     "metadata": {},
     "output_type": "display_data"
    }
   ],
   "source": [
    "dfp.hist(\"production\", bins = 50)"
   ]
  },
  {
   "cell_type": "markdown",
   "id": "e33901d6",
   "metadata": {},
   "source": [
    "### Verdeling bepalen voor productie van 1 dag"
   ]
  },
  {
   "cell_type": "code",
   "execution_count": 20,
   "id": "7939fa1a",
   "metadata": {},
   "outputs": [
    {
     "name": "stdout",
     "output_type": "stream",
     "text": [
      "(989.218487394958, 108.90790262811456) 989.218487394958 108.90790262811456\n"
     ]
    }
   ],
   "source": [
    "# Parameters (mean & std) bepalen van de Normale verdeling die de \"niet-nul\" productiedagen fit\n",
    "# de \"niet-nul\" productiedagen : dfp.loc[dfp[\"production\"] != 0,:]\n",
    "\n",
    "dfp_not_0_model = scipy.stats.norm.fit(dfp.loc[dfp[\"production\"] != 0,:][\"production\"])\n",
    "\n",
    "print(dfp_not_0_model, dfp_not_0_model[0], dfp_not_0_model[1])\n"
   ]
  },
  {
   "cell_type": "code",
   "execution_count": 21,
   "id": "7c1b49ab",
   "metadata": {},
   "outputs": [
    {
     "name": "stdout",
     "output_type": "stream",
     "text": [
      "0.1774193548387097\n"
     ]
    }
   ],
   "source": [
    "# Percentage van \"nul\" productiedagen bepalen\n",
    "\n",
    "perc_0 = np.mean(dfp[\"production\"] == 0)   # dfp[\"production\"] == 0 is een Boolean Series\n",
    "print(perc_0)\n"
   ]
  },
  {
   "cell_type": "code",
   "execution_count": 22,
   "id": "b5d42651",
   "metadata": {},
   "outputs": [],
   "source": [
    "# Model voor productie van 1 dag bepalen :\n",
    "# p% kans = 0\n",
    "# (1-p)% kans trekking uit de Normale verdeling die de \"niet-nul\" productiedagen fit\n",
    "\n",
    "def model_prod1 (p, mu, sigma, size = None):\n",
    "    # Remark: size not implemented yet!\n",
    "    \n",
    "    a = np.random.rand()\n",
    "    \n",
    "    if a < p:\n",
    "        return 0\n",
    "    else:\n",
    "        return np.random.normal(loc = mu, scale = sigma)\n",
    "    \n",
    "# b = model_prod1(perc_0, dfp_not_0_model[0], dfp_not_0_model[1])     \n",
    "# print(b)\n"
   ]
  },
  {
   "cell_type": "code",
   "execution_count": 23,
   "id": "b8662139",
   "metadata": {},
   "outputs": [
    {
     "data": {
      "text/plain": [
       "(array([336.,   0.,   0.,   0.,   0.,   0.,   0.,   0.,   0.,   0.,   0.,\n",
       "          0.,   0.,   0.,   0.,   0.,   0.,   0.,   0.,   0.,   0.,   0.,\n",
       "          2.,   1.,   2.,   2.,   5.,  12.,  16.,  38.,  68.,  95., 106.,\n",
       "        129., 156., 141., 181., 153., 145., 112.,  83.,  83.,  57.,  35.,\n",
       "         19.,   9.,   5.,   6.,   2.,   1.]),\n",
       " array([   0.        ,   27.13997334,   54.27994668,   81.41992002,\n",
       "         108.55989336,  135.6998667 ,  162.83984003,  189.97981337,\n",
       "         217.11978671,  244.25976005,  271.39973339,  298.53970673,\n",
       "         325.67968007,  352.81965341,  379.95962675,  407.09960009,\n",
       "         434.23957343,  461.37954676,  488.5195201 ,  515.65949344,\n",
       "         542.79946678,  569.93944012,  597.07941346,  624.2193868 ,\n",
       "         651.35936014,  678.49933348,  705.63930682,  732.77928015,\n",
       "         759.91925349,  787.05922683,  814.19920017,  841.33917351,\n",
       "         868.47914685,  895.61912019,  922.75909353,  949.89906687,\n",
       "         977.03904021, 1004.17901355, 1031.31898688, 1058.45896022,\n",
       "        1085.59893356, 1112.7389069 , 1139.87888024, 1167.01885358,\n",
       "        1194.15882692, 1221.29880026, 1248.4387736 , 1275.57874694,\n",
       "        1302.71872028, 1329.85869361, 1356.99866695]),\n",
       " <BarContainer object of 50 artists>)"
      ]
     },
     "execution_count": 23,
     "metadata": {},
     "output_type": "execute_result"
    },
    {
     "data": {
      "image/png": "[encoded data removed]",
      "text/plain": [
       "<Figure size 640x480 with 1 Axes>"
      ]
     },
     "metadata": {},
     "output_type": "display_data"
    }
   ],
   "source": [
    "# Maak een simulatie van het Model voor de productie van 1 dag\n",
    "SS = 2000\n",
    "simulation_prod1 = [model_prod1(perc_0, dfp_not_0_model[0], dfp_not_0_model[1]) for _ in range(SS)]\n",
    "#print(simulation_prod1)\n",
    "\n",
    "plt.hist(simulation_prod1, bins=50)\n"
   ]
  },
  {
   "cell_type": "code",
   "execution_count": 24,
   "id": "7068038c",
   "metadata": {},
   "outputs": [
    {
     "data": {
      "text/plain": [
       "(array([6.19013136e-03, 0.00000000e+00, 0.00000000e+00, 0.00000000e+00,\n",
       "        0.00000000e+00, 0.00000000e+00, 0.00000000e+00, 0.00000000e+00,\n",
       "        0.00000000e+00, 0.00000000e+00, 0.00000000e+00, 0.00000000e+00,\n",
       "        0.00000000e+00, 0.00000000e+00, 0.00000000e+00, 0.00000000e+00,\n",
       "        0.00000000e+00, 0.00000000e+00, 0.00000000e+00, 0.00000000e+00,\n",
       "        0.00000000e+00, 0.00000000e+00, 3.68460200e-05, 1.84230100e-05,\n",
       "        3.68460200e-05, 3.68460200e-05, 9.21150500e-05, 2.21076120e-04,\n",
       "        2.94768160e-04, 7.00074380e-04, 1.25276468e-03, 1.75018595e-03,\n",
       "        1.95283906e-03, 2.37656829e-03, 2.87398956e-03, 2.59764441e-03,\n",
       "        3.33456481e-03, 2.81872053e-03, 2.67133645e-03, 2.06337712e-03,\n",
       "        1.52910983e-03, 1.52910983e-03, 1.05011157e-03, 6.44805350e-04,\n",
       "        3.50037190e-04, 1.65807090e-04, 9.21150500e-05, 1.10538060e-04,\n",
       "        3.68460200e-05, 1.84230100e-05]),\n",
       " array([   0.        ,   27.13997334,   54.27994668,   81.41992002,\n",
       "         108.55989336,  135.6998667 ,  162.83984003,  189.97981337,\n",
       "         217.11978671,  244.25976005,  271.39973339,  298.53970673,\n",
       "         325.67968007,  352.81965341,  379.95962675,  407.09960009,\n",
       "         434.23957343,  461.37954676,  488.5195201 ,  515.65949344,\n",
       "         542.79946678,  569.93944012,  597.07941346,  624.2193868 ,\n",
       "         651.35936014,  678.49933348,  705.63930682,  732.77928015,\n",
       "         759.91925349,  787.05922683,  814.19920017,  841.33917351,\n",
       "         868.47914685,  895.61912019,  922.75909353,  949.89906687,\n",
       "         977.03904021, 1004.17901355, 1031.31898688, 1058.45896022,\n",
       "        1085.59893356, 1112.7389069 , 1139.87888024, 1167.01885358,\n",
       "        1194.15882692, 1221.29880026, 1248.4387736 , 1275.57874694,\n",
       "        1302.71872028, 1329.85869361, 1356.99866695]),\n",
       " <BarContainer object of 50 artists>)"
      ]
     },
     "execution_count": 24,
     "metadata": {},
     "output_type": "execute_result"
    },
    {
     "data": {
      "image/png": "[encoded data removed]",
      "text/plain": [
       "<Figure size 640x480 with 1 Axes>"
      ]
     },
     "metadata": {},
     "output_type": "display_data"
    }
   ],
   "source": [
    "# Beide Density Histogrammen in 1 figuur\n",
    "\n",
    "plt.hist(dfp[\"production\"], density = True, color = 'b', bins = 50, alpha = 0.2)\n",
    "plt.hist(simulation_prod1, density = True, color = 'r', bins = 50, alpha = 0.2)\n"
   ]
  },
  {
   "cell_type": "markdown",
   "id": "55c62861",
   "metadata": {},
   "source": [
    "### Simulatie van totale productie over periode van n dagen"
   ]
  },
  {
   "cell_type": "code",
   "execution_count": 25,
   "id": "d5162b06",
   "metadata": {},
   "outputs": [],
   "source": [
    "n = 5\n",
    "SS = 2000\n",
    "simulation_prodn = [sum([model_prod1(perc_0, dfp_not_0_model[0], dfp_not_0_model[1]) for _ in range(n)]) for k in range(SS)]"
   ]
  },
  {
   "cell_type": "code",
   "execution_count": 26,
   "id": "8c6f4871",
   "metadata": {},
   "outputs": [
    {
     "data": {
      "text/plain": [
       "(array([ 1.,  1.,  2.,  2.,  1.,  0.,  0.,  0.,  0.,  0.,  0.,  0.,  0.,\n",
       "         0.,  0.,  0.,  0.,  1.,  1.,  7.,  7., 10.,  7.,  7.,  9.,  4.,\n",
       "         8.,  3.,  6.,  3.,  1.,  0.,  1.,  1.,  0.,  2.,  6., 11., 12.,\n",
       "        12., 21., 20., 27., 33., 39., 35., 30., 26., 27., 24., 14., 15.,\n",
       "         3.,  3.,  6.,  8., 15., 25., 28., 43., 61., 44., 56., 62., 68.,\n",
       "        73., 78., 63., 41., 38., 32., 33., 14., 20., 17., 14., 13., 24.,\n",
       "        24., 30., 35., 48., 47., 49., 60., 67., 48., 60., 39., 40., 44.,\n",
       "        26., 20., 10., 12.,  8.,  4.,  7.,  2.,  1.]),\n",
       " array([ 835.37778616,  883.44838444,  931.51898271,  979.58958098,\n",
       "        1027.66017926, 1075.73077753, 1123.8013758 , 1171.87197408,\n",
       "        1219.94257235, 1268.01317063, 1316.0837689 , 1364.15436717,\n",
       "        1412.22496545, 1460.29556372, 1508.366162  , 1556.43676027,\n",
       "        1604.50735854, 1652.57795682, 1700.64855509, 1748.71915336,\n",
       "        1796.78975164, 1844.86034991, 1892.93094819, 1941.00154646,\n",
       "        1989.07214473, 2037.14274301, 2085.21334128, 2133.28393956,\n",
       "        2181.35453783, 2229.4251361 , 2277.49573438, 2325.56633265,\n",
       "        2373.63693092, 2421.7075292 , 2469.77812747, 2517.84872575,\n",
       "        2565.91932402, 2613.98992229, 2662.06052057, 2710.13111884,\n",
       "        2758.20171712, 2806.27231539, 2854.34291366, 2902.41351194,\n",
       "        2950.48411021, 2998.55470849, 3046.62530676, 3094.69590503,\n",
       "        3142.76650331, 3190.83710158, 3238.90769985, 3286.97829813,\n",
       "        3335.0488964 , 3383.11949468, 3431.19009295, 3479.26069122,\n",
       "        3527.3312895 , 3575.40188777, 3623.47248605, 3671.54308432,\n",
       "        3719.61368259, 3767.68428087, 3815.75487914, 3863.82547741,\n",
       "        3911.89607569, 3959.96667396, 4008.03727224, 4056.10787051,\n",
       "        4104.17846878, 4152.24906706, 4200.31966533, 4248.39026361,\n",
       "        4296.46086188, 4344.53146015, 4392.60205843, 4440.6726567 ,\n",
       "        4488.74325497, 4536.81385325, 4584.88445152, 4632.9550498 ,\n",
       "        4681.02564807, 4729.09624634, 4777.16684462, 4825.23744289,\n",
       "        4873.30804117, 4921.37863944, 4969.44923771, 5017.51983599,\n",
       "        5065.59043426, 5113.66103253, 5161.73163081, 5209.80222908,\n",
       "        5257.87282736, 5305.94342563, 5354.0140239 , 5402.08462218,\n",
       "        5450.15522045, 5498.22581873, 5546.296417  , 5594.36701527,\n",
       "        5642.43761355]),\n",
       " <BarContainer object of 100 artists>)"
      ]
     },
     "execution_count": 26,
     "metadata": {},
     "output_type": "execute_result"
    },
    {
     "data": {
      "image/png": "[encoded data removed]",
      "text/plain": [
       "<Figure size 640x480 with 1 Axes>"
      ]
     },
     "metadata": {},
     "output_type": "display_data"
    }
   ],
   "source": [
    "plt.hist(simulation_prodn, bins = 100)"
   ]
  },
  {
   "cell_type": "code",
   "execution_count": null,
   "id": "390a7be4",
   "metadata": {},
   "outputs": [],
   "source": []
  }
 ],
 "metadata": {
  "kernelspec": {
   "display_name": "Python 3 (ipykernel)",
   "language": "python",
   "name": "python3"
  },
  "language_info": {
   "codemirror_mode": {
    "name": "ipython",
    "version": 3
   },
   "file_extension": ".py",
   "mimetype": "text/x-python",
   "name": "python",
   "nbconvert_exporter": "python",
   "pygments_lexer": "ipython3",
   "version": "3.11.4"
  }
 },
 "nbformat": 4,
 "nbformat_minor": 5
}
