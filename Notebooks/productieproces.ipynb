{
 "cells": [
  {
   "cell_type": "markdown",
   "id": "93bc61eb",
   "metadata": {},
   "source": [
    "# Deel 1 : Productieproces\n",
    "## Imports, Directories"
   ]
  },
  {
   "cell_type": "code",
   "execution_count": 1,
   "id": "63365b5b",
   "metadata": {},
   "outputs": [],
   "source": [
    "import numpy as np\n",
    "import pandas as pd\n",
    "from datetime import datetime\n",
    "import scipy.stats\n",
    "import os\n",
    "import json"
   ]
  },
  {
   "cell_type": "code",
   "execution_count": 2,
   "id": "62478354",
   "metadata": {},
   "outputs": [
    {
     "name": "stdout",
     "output_type": "stream",
     "text": [
      "C:\\Users\\BE76820\\OneDrive - AGC\\Documents\\Syntra 2023-2024\\Adinda DS Werkplaats\\10ter GIT Statistiek Opdracht\\Notebooks\n",
      "C:\\Users\\BE76820\\OneDrive - AGC\\Documents\\Syntra 2023-2024\\Adinda DS Werkplaats\\10ter GIT Statistiek Opdracht\\Scripts\n",
      "C:\\Users\\BE76820\\OneDrive - AGC\\Documents\\Syntra 2023-2024\\Adinda DS Werkplaats\\10ter GIT Statistiek Opdracht\\Data\\Input\\Data_productie\\Daily_production\\BRU\n",
      "C:\\Users\\BE76820\\OneDrive - AGC\\Documents\\Syntra 2023-2024\\Adinda DS Werkplaats\\10ter GIT Statistiek Opdracht\\Data\\Input\\Data_productie\\Daily_production\\STO\n"
     ]
    }
   ],
   "source": [
    "dirnb = os.getcwd()\n",
    "print(dirnb)\n",
    "dirscripts = os.path.join(os.path.dirname(os.getcwd()), \"Scripts\")\n",
    "print(dirscripts)\n",
    "dirbru = os.path.join(os.path.dirname(os.getcwd()), \"Data\\Input\\Data_productie\\Daily_production\\BRU\")\n",
    "print(dirbru)\n",
    "dirsto = os.path.join(os.path.dirname(os.getcwd()), \"Data\\Input\\Data_productie\\Daily_production\\STO\")\n",
    "print(dirsto)"
   ]
  },
  {
   "cell_type": "markdown",
   "id": "90aa98e7",
   "metadata": {},
   "source": [
    "## Run Scripts"
   ]
  },
  {
   "cell_type": "code",
   "execution_count": 3,
   "id": "25e64591",
   "metadata": {},
   "outputs": [
    {
     "data": {
      "text/plain": [
       "'C:\\\\Users\\\\BE76820\\\\OneDrive - AGC\\\\Documents\\\\Syntra 2023-2024\\\\Adinda DS Werkplaats\\\\10ter GIT Statistiek Opdracht\\\\Scripts'"
      ]
     },
     "execution_count": 3,
     "metadata": {},
     "output_type": "execute_result"
    }
   ],
   "source": [
    "# Temporary set \"dirscripts\" as \"cwd\" and Execute Scripts\n",
    "os.chdir(dirscripts)\n",
    "os.getcwd()"
   ]
  },
  {
   "cell_type": "code",
   "execution_count": 4,
   "id": "3ee0ccc0",
   "metadata": {},
   "outputs": [
    {
     "data": {
      "text/plain": [
       "['.gitkeep', 'df_from_json_files.py']"
      ]
     },
     "execution_count": 4,
     "metadata": {},
     "output_type": "execute_result"
    }
   ],
   "source": [
    "os.listdir()"
   ]
  },
  {
   "cell_type": "code",
   "execution_count": 5,
   "id": "59b2dc1f",
   "metadata": {},
   "outputs": [],
   "source": [
    "##### %run scripts\n"
   ]
  },
  {
   "cell_type": "markdown",
   "id": "1740e0f3",
   "metadata": {},
   "source": [
    "## Read Production Data BRU & STO"
   ]
  },
  {
   "cell_type": "code",
   "execution_count": 6,
   "id": "386385bc",
   "metadata": {},
   "outputs": [],
   "source": [
    "# Functie die DataFrame \"df\" creëert vanuit .json files die zich in een folder \"directory\" bevinden\n",
    "\n",
    "def df_from_json_files (directory) :\n",
    "    \n",
    "    data_list = []\n",
    "\n",
    "    for file in os.listdir(directory) :\n",
    "        with open(file) as file:\n",
    "            data = json.loads(file.read())\n",
    "        data_list.append(data)\n",
    "\n",
    "    df = pd.DataFrame(data_list)\n",
    "    return df  "
   ]
  },
  {
   "cell_type": "code",
   "execution_count": 7,
   "id": "ed8d0044",
   "metadata": {},
   "outputs": [
    {
     "data": {
      "text/html": [
       "<div>\n",
       "<style scoped>\n",
       "    .dataframe tbody tr th:only-of-type {\n",
       "        vertical-align: middle;\n",
       "    }\n",
       "\n",
       "    .dataframe tbody tr th {\n",
       "        vertical-align: top;\n",
       "    }\n",
       "\n",
       "    .dataframe thead th {\n",
       "        text-align: right;\n",
       "    }\n",
       "</style>\n",
       "<table border=\"1\" class=\"dataframe\">\n",
       "  <thead>\n",
       "    <tr style=\"text-align: right;\">\n",
       "      <th></th>\n",
       "      <th>DoW</th>\n",
       "      <th>hour</th>\n",
       "      <th>minute</th>\n",
       "      <th>date</th>\n",
       "      <th>maintenance</th>\n",
       "      <th>prod_loss</th>\n",
       "      <th>prod_loss_perc</th>\n",
       "      <th>production</th>\n",
       "    </tr>\n",
       "  </thead>\n",
       "  <tbody>\n",
       "    <tr>\n",
       "      <th>0</th>\n",
       "      <td>Monday</td>\n",
       "      <td>1</td>\n",
       "      <td>0</td>\n",
       "      <td>01-01-2018 00:00:00.0000</td>\n",
       "      <td>No</td>\n",
       "      <td>61</td>\n",
       "      <td>5</td>\n",
       "      <td>1183</td>\n",
       "    </tr>\n",
       "    <tr>\n",
       "      <th>1</th>\n",
       "      <td>Tuesday</td>\n",
       "      <td>1</td>\n",
       "      <td>0</td>\n",
       "      <td>01-02-2018 00:00:00.0000</td>\n",
       "      <td>No</td>\n",
       "      <td>106</td>\n",
       "      <td>9</td>\n",
       "      <td>1138</td>\n",
       "    </tr>\n",
       "    <tr>\n",
       "      <th>2</th>\n",
       "      <td>Wednesday</td>\n",
       "      <td>1</td>\n",
       "      <td>0</td>\n",
       "      <td>01-03-2018 00:00:00.0000</td>\n",
       "      <td>No</td>\n",
       "      <td>129</td>\n",
       "      <td>10</td>\n",
       "      <td>1115</td>\n",
       "    </tr>\n",
       "    <tr>\n",
       "      <th>3</th>\n",
       "      <td>Thursday</td>\n",
       "      <td>1</td>\n",
       "      <td>0</td>\n",
       "      <td>01-04-2018 00:00:00.0000</td>\n",
       "      <td>No</td>\n",
       "      <td>278</td>\n",
       "      <td>22</td>\n",
       "      <td>966</td>\n",
       "    </tr>\n",
       "    <tr>\n",
       "      <th>4</th>\n",
       "      <td>Friday</td>\n",
       "      <td>1</td>\n",
       "      <td>0</td>\n",
       "      <td>01-05-2018 00:00:00.0000</td>\n",
       "      <td>No</td>\n",
       "      <td>218</td>\n",
       "      <td>17</td>\n",
       "      <td>1026</td>\n",
       "    </tr>\n",
       "  </tbody>\n",
       "</table>\n",
       "</div>"
      ],
      "text/plain": [
       "         DoW  hour  minute                      date maintenance prod_loss  \\\n",
       "0     Monday     1       0  01-01-2018 00:00:00.0000          No        61   \n",
       "1    Tuesday     1       0  01-02-2018 00:00:00.0000          No       106   \n",
       "2  Wednesday     1       0  01-03-2018 00:00:00.0000          No       129   \n",
       "3   Thursday     1       0  01-04-2018 00:00:00.0000          No       278   \n",
       "4     Friday     1       0  01-05-2018 00:00:00.0000          No       218   \n",
       "\n",
       "  prod_loss_perc production  \n",
       "0              5       1183  \n",
       "1              9       1138  \n",
       "2             10       1115  \n",
       "3             22        966  \n",
       "4             17       1026  "
      ]
     },
     "execution_count": 7,
     "metadata": {},
     "output_type": "execute_result"
    }
   ],
   "source": [
    "# Temporary set \"dirbru\" as \"cwd\" and Create dfbru\n",
    "os.chdir(dirbru)\n",
    "dfbru = df_from_json_files (dirbru)\n",
    "dfbru.head()"
   ]
  },
  {
   "cell_type": "code",
   "execution_count": 8,
   "id": "656ccc53",
   "metadata": {},
   "outputs": [
    {
     "data": {
      "text/html": [
       "<div>\n",
       "<style scoped>\n",
       "    .dataframe tbody tr th:only-of-type {\n",
       "        vertical-align: middle;\n",
       "    }\n",
       "\n",
       "    .dataframe tbody tr th {\n",
       "        vertical-align: top;\n",
       "    }\n",
       "\n",
       "    .dataframe thead th {\n",
       "        text-align: right;\n",
       "    }\n",
       "</style>\n",
       "<table border=\"1\" class=\"dataframe\">\n",
       "  <thead>\n",
       "    <tr style=\"text-align: right;\">\n",
       "      <th></th>\n",
       "      <th>DoW</th>\n",
       "      <th>hour</th>\n",
       "      <th>minute</th>\n",
       "      <th>date</th>\n",
       "      <th>maintenance</th>\n",
       "      <th>prod_loss</th>\n",
       "      <th>prod_loss_perc</th>\n",
       "      <th>production</th>\n",
       "    </tr>\n",
       "  </thead>\n",
       "  <tbody>\n",
       "    <tr>\n",
       "      <th>0</th>\n",
       "      <td>Monday</td>\n",
       "      <td>1</td>\n",
       "      <td>0</td>\n",
       "      <td>01-01-2018 00:00:00.0000</td>\n",
       "      <td>No</td>\n",
       "      <td>61</td>\n",
       "      <td>5</td>\n",
       "      <td>1183</td>\n",
       "    </tr>\n",
       "    <tr>\n",
       "      <th>1</th>\n",
       "      <td>Tuesday</td>\n",
       "      <td>1</td>\n",
       "      <td>0</td>\n",
       "      <td>01-02-2018 00:00:00.0000</td>\n",
       "      <td>No</td>\n",
       "      <td>106</td>\n",
       "      <td>9</td>\n",
       "      <td>1138</td>\n",
       "    </tr>\n",
       "    <tr>\n",
       "      <th>2</th>\n",
       "      <td>Wednesday</td>\n",
       "      <td>1</td>\n",
       "      <td>0</td>\n",
       "      <td>01-03-2018 00:00:00.0000</td>\n",
       "      <td>No</td>\n",
       "      <td>129</td>\n",
       "      <td>10</td>\n",
       "      <td>1115</td>\n",
       "    </tr>\n",
       "    <tr>\n",
       "      <th>3</th>\n",
       "      <td>Thursday</td>\n",
       "      <td>1</td>\n",
       "      <td>0</td>\n",
       "      <td>01-04-2018 00:00:00.0000</td>\n",
       "      <td>No</td>\n",
       "      <td>278</td>\n",
       "      <td>22</td>\n",
       "      <td>966</td>\n",
       "    </tr>\n",
       "    <tr>\n",
       "      <th>4</th>\n",
       "      <td>Friday</td>\n",
       "      <td>1</td>\n",
       "      <td>0</td>\n",
       "      <td>01-05-2018 00:00:00.0000</td>\n",
       "      <td>No</td>\n",
       "      <td>218</td>\n",
       "      <td>17</td>\n",
       "      <td>1026</td>\n",
       "    </tr>\n",
       "  </tbody>\n",
       "</table>\n",
       "</div>"
      ],
      "text/plain": [
       "         DoW  hour  minute                      date maintenance prod_loss  \\\n",
       "0     Monday     1       0  01-01-2018 00:00:00.0000          No        61   \n",
       "1    Tuesday     1       0  01-02-2018 00:00:00.0000          No       106   \n",
       "2  Wednesday     1       0  01-03-2018 00:00:00.0000          No       129   \n",
       "3   Thursday     1       0  01-04-2018 00:00:00.0000          No       278   \n",
       "4     Friday     1       0  01-05-2018 00:00:00.0000          No       218   \n",
       "\n",
       "  prod_loss_perc production  \n",
       "0              5       1183  \n",
       "1              9       1138  \n",
       "2             10       1115  \n",
       "3             22        966  \n",
       "4             17       1026  "
      ]
     },
     "execution_count": 8,
     "metadata": {},
     "output_type": "execute_result"
    }
   ],
   "source": [
    "# Temporary set \"dirsto\" as \"cwd\" and Create dfsto\n",
    "os.chdir(dirbru)\n",
    "dfsto = df_from_json_files (dirsto)\n",
    "dfsto.head()"
   ]
  },
  {
   "cell_type": "code",
   "execution_count": 9,
   "id": "c761734d",
   "metadata": {},
   "outputs": [
    {
     "data": {
      "text/plain": [
       "'C:\\\\Users\\\\BE76820\\\\OneDrive - AGC\\\\Documents\\\\Syntra 2023-2024\\\\Adinda DS Werkplaats\\\\10ter GIT Statistiek Opdracht\\\\Notebooks'"
      ]
     },
     "execution_count": 9,
     "metadata": {},
     "output_type": "execute_result"
    }
   ],
   "source": [
    "# Set back \"dirnb\" as \"cwd\"\n",
    "os.chdir(dirnb)\n",
    "os.getcwd()"
   ]
  }
 ],
 "metadata": {
  "kernelspec": {
   "display_name": "Python 3 (ipykernel)",
   "language": "python",
   "name": "python3"
  },
  "language_info": {
   "codemirror_mode": {
    "name": "ipython",
    "version": 3
   },
   "file_extension": ".py",
   "mimetype": "text/x-python",
   "name": "python",
   "nbconvert_exporter": "python",
   "pygments_lexer": "ipython3",
   "version": "3.11.4"
  }
 },
 "nbformat": 4,
 "nbformat_minor": 5
}
