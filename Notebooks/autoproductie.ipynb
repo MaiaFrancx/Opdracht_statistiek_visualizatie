{
 "cells": [
  {
   "cell_type": "markdown",
   "metadata": {},
   "source": [
    "# Autoproductie"
   ]
  },
  {
   "cell_type": "markdown",
   "metadata": {},
   "source": [
    "## Overzicht\n",
    "We kijken naar de dataset `cars.csv`, deze bevat informatie over de verkoop van 2e hands Volvo’s. We hebben hier een aantal vragen over, beantwoord deze vragen door een beetje code te schrijven en de antwoorden op te schrijven in een Jupyter Notebook."
   ]
  },
  {
   "cell_type": "markdown",
   "metadata": {},
   "source": [
    "<font color=\"blue\">\n",
    "Vooreerst worden de nodige packages geïmporteerd, de plot-styles bepaald en de cars-dataset ingelezen naar een DataFrame. <br>\n",
    "Alleen de <b>Volvo's</b> worden weerhouden.\n",
    "    \n",
    "Om een gevoel te krijgen met de dataset, worden het aantal rijen en kolommen opgevraagd, en de kolommen gescreend op missing values.\n",
    "    \n",
    "<br>"
   ]
  },
  {
   "cell_type": "code",
   "metadata": {},
   "source": [
    "import pandas as pd\n",
    "import matplotlib.pyplot as plt\n",
    "from scipy import stats\n",
    "from scipy.stats import norm\n",
    "import numpy as np\n",
    "import math\n",
    "import os"
   ],
   "outputs": [],
   "execution_count": null
  },
  {
   "cell_type": "code",
   "metadata": {},
   "source": [
    "# Styling\n",
    "plt.rcParams['axes.grid'] = False\n",
    "    \n",
    "plt.rcParams['legend.frameon'] = False\n",
    "\n",
    "plt.rcParams['axes.spines.top'] = False\n",
    "plt.rcParams['axes.spines.right'] = False\n",
    "    \n",
    "plt.rcParams['axes.prop_cycle'] = plt.cycler(color=['#1f77b4', '#9467bd', '#e377c2'])\n",
    "    \n",
    "plt.rcParams['figure.figsize'] = [10, 6]\n",
    "plt.rcParams['lines.linewidth'] = 2\n",
    "plt.rcParams['font.size'] = 12"
   ],
   "outputs": [],
   "execution_count": null
  },
  {
   "cell_type": "code",
   "metadata": {
    "scrolled": true
   },
   "source": [
    "# Data inlezen\n",
    "file_path = os.path.join(os.path.dirname(os.getcwd()),\"Data\\Input\\cars.csv\")\n",
    "\n",
    "all_cars = pd.read_csv(file_path)\n",
    "\n",
    "# Volvo's filteren\n",
    "cars = all_cars[all_cars['manufacturer'] == 'Volvo'].copy().reset_index(drop=True)"
   ],
   "outputs": [],
   "execution_count": null
  },
  {
   "cell_type": "code",
   "metadata": {},
   "source": [
    "cars.sample(5)"
   ],
   "outputs": [],
   "execution_count": null
  },
  {
   "cell_type": "code",
   "metadata": {},
   "source": [
    "cars.shape"
   ],
   "outputs": [],
   "execution_count": null
  },
  {
   "cell_type": "code",
   "metadata": {},
   "source": [
    "print(cars.isna().sum())"
   ],
   "outputs": [],
   "execution_count": null
  },
  {
   "cell_type": "markdown",
   "metadata": {},
   "source": [
    "### Vraag 1:\n",
    "Wat voor soort data zijn `year`, `fuel_type` en `seller_rating`? Motiveer je antwoord."
   ]
  },
  {
   "cell_type": "markdown",
   "metadata": {},
   "source": [
    "<font color=\"blue\">\n",
    "    \n",
    "- <b>year</b> is categorisch, ordinaal. Jaartallen zijn natuurlijke getallen met een rangschikking, maar omdat het niet zinvol is om jaartallen op te tellen, beschouwen we year als categorisch.        \n",
    "\n",
    "- <b>fuel_type</b> is categorisch, niet-ordinaal.    \n",
    "\n",
    "- <b>seller_rating</b> is categorisch, ordinaal. Ratings zijn decimale getallen met een rangschikking, maar omdat het niet zinvol is om ratings op te tellen, beschouwen we seller_rating als categorisch.\n",
    "    \n",
    "Hieronder worden ook de waarden van de variabelen getoond, inclusief een <u>barchart voor fuel-type</u>. <br>\n",
    "Daaruit blijkt dat 3 fuel-types dominant vertegenwoordigd zijn in de dataset van tweedehands Volvo's. <br>    \n",
    "    \n",
    "<br>"
   ]
  },
  {
   "cell_type": "code",
   "metadata": {
    "vscode": {
     "languageId": "plaintext"
    }
   },
   "source": [
    "columns_to_check = ['year', 'fuel_type', 'seller_rating']\n",
    "\n",
    "types_of_columns = cars[columns_to_check].dtypes\n",
    "\n",
    "print(types_of_columns)"
   ],
   "outputs": [],
   "execution_count": null
  },
  {
   "cell_type": "code",
   "metadata": {},
   "source": [
    "print(f\"Volvo dataset : \\n - range for year = [{cars['year'].min()} , {cars['year'].max()}]\"\n",
    "      f\"\\n - range for seller_rating = [{cars['seller_rating'].min()} , {cars['seller_rating'].max()}]\"\n",
    "      f\"\\n - values for fuel_type = \\n {cars['fuel_type'].unique()} \\n\") "
   ],
   "outputs": [],
   "execution_count": null
  },
  {
   "cell_type": "code",
   "metadata": {},
   "source": [
    "df_ft = cars.groupby(\"fuel_type\").count().sort_values([\"manufacturer\"], ascending=False).reset_index()\n",
    "df_ft.plot.barh(x=\"fuel_type\",y=\"manufacturer\",legend=False);"
   ],
   "outputs": [],
   "execution_count": null
  },
  {
   "cell_type": "markdown",
   "metadata": {},
   "source": [
    "### Vraag 2:\n",
    "Ik vraag me af hoe een gewoonlijke (mbt prijs) $2^e$ hands Volvo eruit ziet. Kan je deze zoeken en tonen?"
   ]
  },
  {
   "cell_type": "markdown",
   "metadata": {},
   "source": [
    "<font color=\"blue\">\n",
    "Hiervoor moet de <b>mediaanprijs</b> worden berekend. <br>\n",
    "De mediaan wordt namelijk minder beïnvloed door outliers en extreme waarden dan het gemiddelde. <br>\n",
    "De auto met de mediaanprijs als prijs, is de 'gewoonlijke' tweedehands Volvo. <br>\n",
    "    \n",
    "<br>"
   ]
  },
  {
   "cell_type": "code",
   "metadata": {
    "vscode": {
     "languageId": "plaintext"
    }
   },
   "source": [
    "median_price = round(cars['price'].median())\n",
    "car_with_median_price = cars[cars['price'] == median_price]\n",
    "\n",
    "print(f\"Mediaanprijs tweedehands Volvo: €{median_price}\")\n",
    "print(f\"Voorbeeld van de 'gewoonlijke' tweedehands Volvo:\") \n",
    "car_with_median_price "
   ],
   "outputs": [],
   "execution_count": null
  },
  {
   "cell_type": "markdown",
   "metadata": {},
   "source": [
    "### Vraag 3:\n",
    "We kunnen de verdeling van de prijs van $2^e$ hands Volvo's voorstellen met een histogram:\n",
    "![alt text](image.png)\n",
    " - Waar zou je verwachten dat het gemiddelde +/- ligt voor deze verdeling?\n",
    " - Waar zou je verwachten dat de mediaan +/- ligt?\n",
    "\n",
    "Teken dit histogram met `.hist` en gebruik `.axvline` om de mediaan en het gemiddelde toe te voegen aan de plot. Komt dit overeen met je verwachting?\n",
    "\n",
    " - Kan je de emprisiche cummulatieve distributie functie tekenen voor de verdeling die overeenkomt met dit histogram (zie ook `scipy.stats.ecdf`)."
   ]
  },
  {
   "cell_type": "markdown",
   "metadata": {},
   "source": [
    "<font color=\"blue\">\n",
    "De mediaan en het gemiddelde liggen ongeveer in het <b>midden</b> en vallen bijna samen. <br>\n",
    "Dat komt omdat er nauwelijks outliers zijn en omdat de prijzen noch left-skewed, noch right-skewed zijn. <br>\n",
    "Uit onderstaand histogram blijkt dat de prijs van tweedehands Volvo's <b>normaal</b> verdeeld is. <br>\n",
    "Ook de Cumulatieve Distributiefunctie bevestigt normaalverdeelde prijzen. <br>\n",
    "<br>"
   ]
  },
  {
   "cell_type": "code",
   "metadata": {
    "vscode": {
     "languageId": "plaintext"
    }
   },
   "source": [
    "mean_price = cars['price'].mean()\n",
    "\n",
    "plt.hist(cars['price'], bins=30)\n",
    "plt.axvline\n",
    "plt.xlabel('Prijs')\n",
    "plt.ylabel('Voorkomen')\n",
    "plt.title('Histogram van de prijs van een tweedehands Volvo')\n",
    "plt.axvline(mean_price, color='red', linestyle='--', label='Gemiddelde')\n",
    "plt.axvline(median_price, color='green', linestyle='-.', label='Mediaan')\n",
    "\n",
    "plt.legend()\n",
    "plt.show()\n"
   ],
   "outputs": [],
   "execution_count": null
  },
  {
   "cell_type": "code",
   "metadata": {},
   "source": [
    "res = stats.ecdf(cars['price'])\n",
    "res.cdf.quantiles\n",
    "res.cdf.probabilities\n",
    "ax = plt.subplot()\n",
    "res.cdf.plot(ax)\n",
    "ax.set_xlabel('Prijs')\n",
    "ax.set_ylabel('Ecdf')\n",
    "plt.title('Cumulatieve Distributiefunctie van de prijs van een tweedehands Volvo')\n",
    "plt.axhline(y=0.5, color='g', linestyle='--')\n",
    "plt.axvline(median_price, color='green', linestyle='-.', label='Mediaan')\n",
    "\n",
    "plt.legend()\n",
    "plt.show()"
   ],
   "outputs": [],
   "execution_count": null
  },
  {
   "cell_type": "markdown",
   "metadata": {},
   "source": [
    "### Vraag 4:\n",
    "Ik wil nu de verschillende fuel types vergelijken hoeveel deze kosten. Hiervoor maak ik volgende afbeelding met meerdere histogrammen hoe kunnen we deze beter maken? Welke alternatieven zijn er nog?\n",
    "![alt text](image-1.png)"
   ]
  },
  {
   "cell_type": "markdown",
   "metadata": {},
   "source": [
    "<font color=\"blue\">\n",
    "Eerder bleek al dat 3 fuel-types dominant vertegenwoordigd zijn in de dataset van tweedehands Volvo's. <br>\n",
    "De prijsvergelijking beperkt zich dan ook tot die 3 fuel-types : <b>Gasoline, Hybrid and Electric</b>. <br>\n",
    "\n",
    "<br>"
   ]
  },
  {
   "cell_type": "code",
   "metadata": {},
   "source": [
    "# Alleen ELectric, Gasoline en Hybrid, zoals in de opgave\n",
    "desired_fuel_types = ['Electric', 'Gasoline', 'Hybrid']\n",
    "fuel_type_prices = cars[cars['fuel_type'].isin(desired_fuel_types)][['fuel_type', 'price']]\n",
    "\n",
    "# Frequency counts voor prijs per fuel type\n",
    "electric_counts = fuel_type_prices[fuel_type_prices['fuel_type'] =='Electric']['price'].value_counts()\n",
    "gasoline_counts = fuel_type_prices[fuel_type_prices['fuel_type'] =='Gasoline']['price'].value_counts()\n",
    "hybrid_counts = fuel_type_prices[fuel_type_prices['fuel_type'] =='Hybrid']['price'].value_counts()"
   ],
   "outputs": [],
   "execution_count": null
  },
  {
   "cell_type": "code",
   "metadata": {},
   "source": [
    "plt.hist(electric_counts.index, bins=20, alpha=0.3, color='blue')\n",
    "plt.hist(gasoline_counts.index, bins=20, alpha=0.3, color='orange')\n",
    "plt.hist(hybrid_counts.index, bins=20, alpha=0.3, color='green')\n",
    "\n",
    "plt.xlabel('Price')\n",
    "plt.ylabel('Frequency')\n",
    "plt.legend(['Electric', 'Gasoline', 'Hybrid'])\n",
    "\n",
    "plt.show()"
   ],
   "outputs": [],
   "execution_count": null
  },
  {
   "cell_type": "markdown",
   "metadata": {},
   "source": [
    "<font color=\"blue\">\n",
    "De bovenstaande plot maakt het overwicht in de dataset van tweedehands Volvo's met fuel-type Gasoline nogmaals duidelijk. <br>\n",
    "Daardoor zijn de 3 histogrammen moeilijk vergelijkbaar. <br>\n",
    "    \n",
    "Door er <b>density histogrammen</b> van te maken, weegt het grote aantal van Gasoline Volvo's niet langer door en kunnen de prijsdistributies voor de 3 fuel-types vergeleken worden op basis van verhoudingen, niet alleen op basis van absolute aantallen. <br>\n",
    "    \n",
    "Een andere optie om prijzen te vergelijken, is het berekenen van de <b>mediaanprijs</b> voor elk fuel-type. <br>\n",
    "\n",
    "<br>"
   ]
  },
  {
   "cell_type": "code",
   "metadata": {},
   "source": [
    "plt.hist(electric_counts.index, bins=20, alpha=0.3, color='blue', density=True)\n",
    "plt.hist(gasoline_counts.index, bins=20, alpha=0.3, color='orange', density=True)\n",
    "plt.hist(hybrid_counts.index, bins=20, alpha=0.3, color='green', density=True)\n",
    "\n",
    "plt.xlabel('Price')\n",
    "plt.ylabel('Density')\n",
    "plt.legend(['Electric', 'Gasoline', 'Hybrid'])\n",
    "plt.show()"
   ],
   "outputs": [],
   "execution_count": null
  },
  {
   "cell_type": "markdown",
   "metadata": {},
   "source": [
    "<font color=\"blue\">\n",
    "Uit bovenstaande plot blijkt dat : <br>\n",
    "    - de prijs voor een Gasoline tweedehands Volvo heel sterk varieert; <br>\n",
    "    - de gemiddelde prijs voor een Gasoline tweedehands Volvo een stuk lager ligt dan die voor een Hybride of Electrische tweedehands Volvo; <br>\n",
    "    - de gemiddelde prijs voor een Hybride tweedehands Volvo en de gemiddelde prijs voor een Electrische tweedehands Volvo niet veel verschillen; <br>\n",
    "    - de prijsvariantie voor een Hybride tweedehands Volvo wel hoger is als de prijsvariantie voor een Electrische tweedehands Volvo. <br>\n",
    "\n",
    "<br>"
   ]
  },
  {
   "cell_type": "code",
   "metadata": {},
   "source": [
    "#Vergelijken van de mediaan prijs van elke fuel type\n",
    "median_prices = fuel_type_prices.groupby('fuel_type')['price'].median()\n",
    "\n",
    "median_prices.plot(kind='bar')\n",
    "plt.xlabel('Fuel Type')\n",
    "plt.ylabel('Median Price')\n",
    "plt.title('Median Price of Cars by Fuel Type')\n",
    "\n",
    "plt.show()\n"
   ],
   "outputs": [],
   "execution_count": null
  },
  {
   "cell_type": "markdown",
   "metadata": {},
   "source": [
    "### Vraag 5:\n",
    "Gegeven volgende boxplots van de prijs van elektrische & benzine wagens, zijn volgende uitspraken waar/onwaar/niet te besluiten & leg uit:\n",
    "\n",
    "![alt text](image-2.png)\n",
    "\n",
    " - De spreiding op de prijs van elektrische wagens is groter dan die van benzinewagens.\n",
    "\n",
    " - Een wagen die meer dan 50 000 euro kost heeft een grotere kans om elektrisch te zijn dan benzine.\n",
    "\n",
    " - Een elektrische wagen heeft een grotere kans om meer dan 50 000 euro te kosten dan een benzine wagen."
   ]
  },
  {
   "cell_type": "markdown",
   "metadata": {
    "vscode": {
     "languageId": "plaintext"
    }
   },
   "source": [
    "<font color=\"blue\">\n",
    "Onderstaande figuur toont de boxplots voor \"Electric\" en \"Gasoline\", \n",
    "met een horizontale lijn op  50 000 euro. <br>\n",
    "    \n",
    "<br>"
   ]
  },
  {
   "cell_type": "code",
   "metadata": {},
   "source": [
    "price_electric = cars.groupby('fuel_type').get_group('Electric')['price']\n",
    "price_gasoline = cars.groupby('fuel_type').get_group('Gasoline')['price']\n",
    "\n",
    "# list of lists data\n",
    "combined_data = [price_electric.tolist(), price_gasoline.tolist()]\n",
    "\n",
    "# Box plot\n",
    "plt.boxplot(combined_data, labels=['Electric', 'Gasoline'], showfliers=True) \n",
    "\n",
    "plt.xlabel('Fuel Type')\n",
    "plt.ylabel('Price')\n",
    "plt.axhline(y=50000, color='r', linestyle='--')\n",
    "plt.title('Price Distribution of Electric and Gasoline Cars')\n",
    "plt.ylim(0, 90000)\n",
    "\n",
    "plt.show()\n"
   ],
   "outputs": [],
   "execution_count": null
  },
  {
   "cell_type": "markdown",
   "metadata": {
    "vscode": {
     "languageId": "plaintext"
    }
   },
   "source": [
    "<font color=\"blue\">\n",
    "    \n",
    "- <i>De spreiding op de prijs van elektrische wagens is groter dan die van benzinewagens.</i> <br>\n",
    "    \n",
    "    **Fout**, de spreiding op de prijs van elektrische wagens is kleiner dan die van benzinewagens. <br>\n",
    "    De box en whiskers zijn namelijk korter, dus is de spreidingsbreedte kleiner. <br>\n",
    "    <br> \n",
    "    \n",
    "- <i>Een wagen die meer dan 50 000 euro kost heeft een grotere kans om elektrisch te zijn dan benzine.</i> <br>\n",
    "    \n",
    "    Het is **niet mogelijk** om te besluiten of een wagen die meer dan 50 000 euro kost een grotere kans heeft om elektrisch te zijn dan benzine. <br> De boxplots zeggen iets over het minimum, het eerste kwartiel, de mediaan, het derde kwartiel en het maximum van een bepaalde populatie (Electric en Gasoline). We weten niet hoeveel auto's er in totaal in de verschillende populaties zitten, dus weten we niet of de kans groter is dat de wagen elektrisch of benzine zou zijn. <br>\n",
    "    <br> \n",
    "    \n",
    "- <i>Een elektrische wagen heeft een grotere kans om meer dan 50 000 euro te kosten dan een benzine wagen.</i> <br>\n",
    "    \n",
    "    **Juist**, een elektrische wagen heeft een grotere kans om meer dan 50 000 euro te kosten dan een benzine wagen. <br>\n",
    "    Voor <u>elektrische</u> tweedehands Volvo's ligt de horizontale lijn van 50 000 euro <u>onder het derde kwartiel</u>, wat betekent dat er meer als 25% kans is dat een elektrische tweedehands Volvo meer dan 50 000 euro kost. <br>\n",
    "    Voor <u>benzine</u> tweedehands Volvo's ligt de horizontale lijn van 50 000 euro <u>boven het derde kwartiel</u>, wat betekent dat er minder als 25% kans is dat een benzine tweedehands Volvo meer dan 50 000 euro kost. <br>\n",
    "    \n",
    "<br>    \n"
   ]
  },
  {
   "cell_type": "markdown",
   "metadata": {},
   "source": [
    "### Vraag 6:\n",
    "Maak een visualizatie om het verband tussen mileage & price te tonen?"
   ]
  },
  {
   "cell_type": "markdown",
   "metadata": {},
   "source": [
    "<font color=\"blue\"> \n",
    "Een scatterplot toont een eerste visualizatie van het verband tussen mileage en price. <br>\n",
    "Het valt onmiddellijk op dat er één sterke outlier is voor mileage (> 10**6 km). <br>\n",
    "    \n",
    "<br> "
   ]
  },
  {
   "cell_type": "code",
   "metadata": {},
   "source": [
    "# Plotting\n",
    "plt.figure(figsize=(10, 6))\n",
    "\n",
    "# Scatter plot om afwijking te zien\n",
    "plt.scatter(cars['mileage'], cars['price'], alpha=0.5, label='Price');\n",
    "\n",
    "plt.title('Verband tussen mileage en price')\n",
    "plt.xlabel('Mileage')\n",
    "plt.ylabel('Price')\n",
    "\n",
    "plt.legend()\n",
    "plt.show()"
   ],
   "outputs": [],
   "execution_count": null
  },
  {
   "cell_type": "markdown",
   "metadata": {},
   "source": [
    "<font color=\"blue\"> \n",
    "De afwijkende observatie, alsook de observaties met missing mileage, worden uit de dataset verwijderd. <br>\n",
    "Daarna wordt de dataset gesorteerd volgens mileage en prijs, wat ons in staat stelt \"rolling price means\" te berekenen. <br>\n",
    "Rolling price means (window=100) : price mean van observatie 0-99, price mean van observatie 1-100, price mean van observatie 2-101, ... <br>\n",
    "    \n",
    "<br> "
   ]
  },
  {
   "cell_type": "code",
   "metadata": {},
   "source": [
    "# Verwijderen van één verre outlier\n",
    "cars_mp = cars[cars['mileage'] != cars[\"mileage\"].max()].copy()\n",
    "cars_mp.shape"
   ],
   "outputs": [],
   "execution_count": null
  },
  {
   "cell_type": "code",
   "metadata": {},
   "source": [
    "# Verwijderen van missing mileages\n",
    "cars_mp = cars_mp.dropna(subset=[\"mileage\"])\n",
    "cars_mp.shape"
   ],
   "outputs": [],
   "execution_count": null
  },
  {
   "cell_type": "code",
   "metadata": {},
   "source": [
    "cars_mp = cars_mp.sort_values([\"mileage\", \"price\"]).reset_index(drop=True)\n",
    "cars_mp.shape"
   ],
   "outputs": [],
   "execution_count": null
  },
  {
   "cell_type": "code",
   "metadata": {},
   "source": [
    "cars_mp = cars_mp.reindex(columns=[\"mileage\",\"price\"])\n",
    "cars_mp.shape"
   ],
   "outputs": [],
   "execution_count": null
  },
  {
   "cell_type": "code",
   "metadata": {},
   "source": [
    "# Plotting\n",
    "plt.figure(figsize=(10, 6))\n",
    "\n",
    "# Scatter plot om afwijking te zien\n",
    "plt.scatter(cars_mp['mileage'], cars_mp['price'], alpha=0.5, label='Price');\n",
    "\n",
    "w = 500\n",
    "# Plot rolling means \n",
    "cars_mp.rolling(window=w).mean().plot(x='mileage', y='price', color='red', linewidth=2, label=f'Rolling Mean Price (Window={w})', ax=plt.gca());\n",
    "\n",
    "plt.title('Verband tussen mileage en price')\n",
    "plt.xlabel('Mileage')\n",
    "plt.ylabel('Price')\n",
    "plt.legend()\n",
    "\n",
    "plt.show()\n"
   ],
   "outputs": [],
   "execution_count": null
  },
  {
   "cell_type": "markdown",
   "metadata": {},
   "source": [
    "<font color=\"blue\"> \n",
    "Bovenstaande plot toont de verwachte negative correlatie tussen mileage en price. <br>\n",
    "Hoe meer mileages, hoe lager de price. <br>\n",
    "    \n",
    "Tot slot wordt de <b>correlatiecoëfficiënt</b> tussen mileage en price berekend. <br>\n",
    "    \n",
    "<br>"
   ]
  },
  {
   "cell_type": "code",
   "metadata": {},
   "source": [
    "cars_mp[['mileage', 'price']].corr()"
   ],
   "outputs": [],
   "execution_count": null
  },
  {
   "cell_type": "markdown",
   "metadata": {},
   "source": [
    "<!-- <font color=\"blue\"> Hiervoor hebben we een line chart gemaakt. \n",
    "Deze was heel druk, dus hebben we gedownsampled om minder punten te plotten. \n",
    "Een andere mogelijke visualisatie is een scatterplot met een rolling window. \n",
    "Zo zien we duidelijk een negatieve correlatie tussen mileage en price. \n",
    "De scatterplot toont wel een grote afwijking. -->"
   ]
  },
  {
   "cell_type": "markdown",
   "metadata": {},
   "source": [
    "### Vraag 7:\n",
    "Volgens deze data is de gemiddelde prijs van $2^e$ hands elektrische Volvo’s <b>48 788 euro</b>; als we veronderstellen dat onze dataset representatief is voor alle 2de hands volvo’s, hoe kan je de accuraatheid van deze schatting nagaan?"
   ]
  },
  {
   "cell_type": "markdown",
   "metadata": {
    "vscode": {
     "languageId": "plaintext"
    }
   },
   "source": [
    "<font color=\"blue\">\n",
    "    De accuraatheid van de schatting kan worden nagegaan door het <b>confidence interval</b> voor het gemiddelde te berekenen. <br>\n",
    "    Dat kan via de centrale limietstelling of via bootstrapping. <br>\n",
    "   "
   ]
  },
  {
   "cell_type": "markdown",
   "metadata": {},
   "source": [
    "<font color=\"blue\">\n",
    "Om de accuraatheid te onderzoeken, moeten we een aantal statistische maatstaven berekenen. <br>\n",
    "In eerste instantie zijn dat de standaarddeviatie en variantie. <br>"
   ]
  },
  {
   "cell_type": "code",
   "metadata": {},
   "source": [
    "electric_cars = cars[cars['fuel_type'] =='Electric'].reindex(columns=[\"price\"])\n",
    "electric_mean = electric_cars['price'].mean()\n",
    "electric_std_dev = electric_cars['price'].std()\n",
    "electric_variance = electric_cars['price'].var()\n",
    "print(f\"Gemiddelde prijs: €{electric_mean:.2f}\")\n",
    "print(f\"Standaarddeviatie: €{electric_std_dev:.2f}\")\n",
    "print(f\"Variantie: €{electric_variance:.2f}\")"
   ],
   "outputs": [],
   "execution_count": null
  },
  {
   "cell_type": "markdown",
   "metadata": {
    "vscode": {
     "languageId": "plaintext"
    }
   },
   "source": [
    "<font color=\"blue\">\n",
    "De Centrale Limietstelling zegt dat het steekproefgemiddelde (hier gelijk aan 48 788 euro), bij benadering normaal verdeeld is met verwachting <i>mu</i> en standaardafwijking <i>sigma / sqrt(sample size)</i>. <br>\n",
    "Hier wordt de CLS gebruikt om het 95% confidence interval te berekenen voor de gemiddelde prijs van Electrische tweedehands Volvo's.     \n",
    "   "
   ]
  },
  {
   "cell_type": "code",
   "metadata": {},
   "source": [
    "electric_cars = cars[cars['fuel_type'] =='Electric'].reindex(columns=[\"price\"])\n",
    "electric_cars.shape"
   ],
   "outputs": [],
   "execution_count": null
  },
  {
   "cell_type": "code",
   "metadata": {},
   "source": [
    "std_err = electric_std_dev / np.sqrt(len(electric_cars))\n",
    "confidence_level = 0.95\n",
    "confidence_interval = stats.norm.interval(confidence_level, loc=electric_mean, scale=std_err)\n",
    "print(f\"95% Confidence Interval ondergrens: €{confidence_interval[0]}\")\n",
    "print(f\"95% Confidence Interval bovengrens: €{confidence_interval[1]}\")\n"
   ],
   "outputs": [],
   "execution_count": null
  },
  {
   "cell_type": "markdown",
   "metadata": {},
   "source": [
    "<font color=\"blue\">\n",
    "Tot slot wordt Bootstrapping gebruikt om het 95% confidence interval te berekenen voor de gemiddelde prijs van Electrische tweedehands Volvo's."
   ]
  },
  {
   "cell_type": "code",
   "metadata": {},
   "source": [
    "bootstrap_means = []\n",
    "num_resamples = 1000\n",
    "for _ in range(num_resamples):\n",
    "    sample = electric_cars['price'].sample(n=len(electric_cars), replace=True)\n",
    "    bootstrap_means.append(sample.mean())\n",
    "bootstrap_means_lower = round(np.percentile(bootstrap_means, 2.5), 2)     \n",
    "bootstrap_means_upper = round(np.percentile(bootstrap_means, 97.5), 2)    \n",
    "    \n",
    "# Plot the distribution of bootstrap means\n",
    "plt.figure(figsize=(10, 6))\n",
    "plt.hist(bootstrap_means, bins=30, color='blue')\n",
    "plt.axvline(electric_mean, color='red', linestyle='--', linewidth=2, label=f'Mean Price: €{electric_mean:.2f}', ymax=0.8)\n",
    "plt.axvline(bootstrap_means_lower, color='green', linestyle=\"--\", linewidth=2, label=f'Bootstrap 95% CI ondergrens: €{bootstrap_means_lower}', ymax=0.8)\n",
    "plt.axvline(bootstrap_means_upper, color='green', linestyle=\"--\", linewidth=2, label=f'Bootstrap 95% CI bovengrens: €{bootstrap_means_upper}', ymax=0.8)\n",
    "plt.xlabel('Bootstrapped Mean Price')\n",
    "plt.ylabel('Frequency')\n",
    "plt.title('Bootstrap Distribution of Mean Price')\n",
    "plt.legend()\n",
    "plt.tight_layout(rect=(0, 0, 1, 0.95))\n"
   ],
   "outputs": [],
   "execution_count": null
  },
  {
   "cell_type": "markdown",
   "metadata": {},
   "source": [
    "<font color=\"blue\">\n",
    "Besluit : <br>\n",
    "Het 95% confidence interval voor de gemiddelde prijs van Electrische tweedehands Volvo's berekend op basis van de Centrale Limietstelling en dat berekend op basis van bootstrapping komen heel goed overeen."
   ]
  }
 ],
 "metadata": {
  "kernelspec": {
   "display_name": "Python 3 (ipykernel)",
   "language": "python",
   "name": "python3"
  },
  "language_info": {
   "codemirror_mode": {
    "name": "ipython",
    "version": 3
   },
   "file_extension": ".py",
   "mimetype": "text/x-python",
   "name": "python",
   "nbconvert_exporter": "python",
   "pygments_lexer": "ipython3",
   "version": "3.11.4"
  }
 },
 "nbformat": 4,
 "nbformat_minor": 2
}
