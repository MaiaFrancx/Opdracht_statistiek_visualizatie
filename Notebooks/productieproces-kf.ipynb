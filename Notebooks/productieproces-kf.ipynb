{
 "cells": [
  {
   "cell_type": "markdown",
   "id": "93bc61eb",
   "metadata": {},
   "source": [
    "# Deel 1 : Productieproces\n",
    "## Imports, Directories"
   ]
  },
  {
   "cell_type": "code",
   "id": "62478354",
   "metadata": {
    "tags": []
   },
   "source": [
    "# Importeren van module Tools waarin constanten en functies ondergebracht zijn\n",
    "import sys\n",
    "import os\n",
    "dirscripts  = os.path.join(os.path.dirname(os.getcwd()), \"Scripts\")\n",
    "sys.path.insert(0, dirscripts)\n",
    "import Tools\n",
    "from Tools import np, pd, json, plt, stats, ECDF #Ook alle libraries zijn in Tools ondergebracht!"
   ],
   "outputs": [],
   "execution_count": null
  },
  {
   "cell_type": "markdown",
   "id": "1740e0f3",
   "metadata": {},
   "source": [
    "## Read Production Data BRU & STO"
   ]
  },
  {
   "cell_type": "code",
   "id": "a434736f",
   "metadata": {
    "tags": []
   },
   "source": [
    "# Create dictionary from input file \"master_data.json\"\n",
    "# MSR = Maximum Sustainable Rate\n",
    "with open(os.path.join(Tools.dirdataprod, 'master_data.json')) as file:\n",
    "    dicmsr = json.loads(file.read())    "
   ],
   "outputs": [],
   "execution_count": null
  },
  {
   "cell_type": "code",
   "id": "110f511d",
   "metadata": {
    "tags": []
   },
   "source": [
    "# Create dataframe \"dfbru\" dat de productiegegevens van BRU(ssel) bevat\n",
    "dfbru = Tools.df_from_json_files(Tools.dirbru)\n",
    "dfbru[\"City\"] = \"BRU\"\n",
    "dfbru.head()"
   ],
   "outputs": [],
   "execution_count": null
  },
  {
   "cell_type": "code",
   "id": "656ccc53",
   "metadata": {},
   "source": [
    "# Create dataframe \"dfsto\" dat de productiegegevens van STO(ckholm) bevat\n",
    "dfsto = Tools.df_from_json_files (Tools.dirsto)\n",
    "dfsto[\"City\"] = \"STO\"\n",
    "dfsto.head()"
   ],
   "outputs": [],
   "execution_count": null
  },
  {
   "cell_type": "markdown",
   "id": "deb778e6",
   "metadata": {},
   "source": [
    "## Clean Production Data BRU & STO"
   ]
  },
  {
   "cell_type": "code",
   "id": "7fa443b0",
   "metadata": {},
   "source": [
    "dfbru = Tools.df_clean(dfbru)\n",
    "dfsto = Tools.df_clean(dfsto)"
   ],
   "outputs": [],
   "execution_count": null
  },
  {
   "cell_type": "markdown",
   "id": "2024a047",
   "metadata": {},
   "source": [
    "## Analyse Production Data BRU"
   ]
  },
  {
   "cell_type": "code",
   "id": "03930f9e",
   "metadata": {
    "scrolled": true
   },
   "source": [
    "# Visualize production over past years (for information)\n",
    "fig, (ax1, ax2) = plt.subplots(1, 2, figsize=(10, 4))  # 1 row, 2 columns\n",
    "\n",
    "#Function for subplots\n",
    "Tools.plot_production(dfbru, ax1, 'BRU', dicmsr['BRU msr'])\n",
    "Tools.plot_production(dfsto, ax2, 'STO', dicmsr['STO msr'])\n",
    "\n",
    "plt.tight_layout()\n"
   ],
   "outputs": [],
   "execution_count": null
  },
  {
   "cell_type": "code",
   "id": "6d330563",
   "metadata": {},
   "source": [
    "# Maintenance dagen verwijderen\n",
    "dfpbru = dfbru.loc[dfbru[\"maintenance\"] == \"No\",:].reset_index(drop=True).copy()\n",
    "dfpsto = dfsto.loc[dfbru[\"maintenance\"] == \"No\",:].reset_index(drop=True).copy()"
   ],
   "outputs": [],
   "execution_count": null
  },
  {
   "cell_type": "code",
   "id": "855dc270",
   "metadata": {},
   "source": [
    "# Informatief histogram na verwijderen maintenance dagen\n",
    "fig, axs = plt.subplots(nrows=1, ncols=2, figsize=(10, 4))\n",
    "Tools.plot_histogram(dfpbru, \"production\", axs[0], \"BRU\")\n",
    "Tools.plot_histogram(dfpsto, \"production\", axs[1], \"STO\")\n",
    "plt.tight_layout()"
   ],
   "outputs": [],
   "execution_count": null
  },
  {
   "cell_type": "markdown",
   "id": "e33901d6",
   "metadata": {},
   "source": [
    "### Verdeling bepalen voor productie van 1 dag"
   ]
  },
  {
   "cell_type": "code",
   "id": "7939fa1a",
   "metadata": {},
   "source": [
    "# Parameters (mean & std) bepalen van de Normale verdeling die de \"niet-nul\" productiedagen fit\n",
    "# de \"niet-nul\" productiedagen : dfp.loc[dfp[\"production\"] != 0,:]\n",
    "dfpbru_not_0_model = stats.norm.fit(dfpbru.loc[dfpbru[\"production\"] != 0,:][\"production\"])\n",
    "dfpsto_not_0_model = stats.norm.fit(dfpsto.loc[dfpsto[\"production\"] != 0,:][\"production\"])\n"
   ],
   "outputs": [],
   "execution_count": null
  },
  {
   "cell_type": "code",
   "id": "7c1b49ab",
   "metadata": {},
   "source": [
    "# Percentage van \"nul\" productiedagen bepalen\n",
    "bru_perc_0 = np.mean(dfpbru[\"production\"] == 0)   # dfp[\"production\"] == 0 is een Boolean Series\n",
    "sto_perc_0 = np.mean(dfpsto[\"production\"] == 0)   # dfp[\"production\"] == 0 is een Boolean Series\n",
    "print(f\"Percentage of zero production BRU: {bru_perc_0 * 100:.2f}%\")\n",
    "print(f\"Percentage of zero production STO: {sto_perc_0 * 100:.2f}%\")\n"
   ],
   "outputs": [],
   "execution_count": null
  },
  {
   "metadata": {},
   "cell_type": "markdown",
   "source": "## Simulatieprogramma",
   "id": "bf87dcdd89ea8d91"
  },
  {
   "cell_type": "code",
   "id": "b8662139",
   "metadata": {},
   "source": [
    "# Maak een simulatie van het Model voor de productie van 1 dag\n",
    "SS = 2000\n",
    "bru_simulation_prod = [Tools.model_prod(bru_perc_0, dfpbru_not_0_model[0], dfpbru_not_0_model[1]) for _ in range(SS)]\n",
    "sto_simulation_prod = [Tools.model_prod(sto_perc_0, dfpsto_not_0_model[0], dfpsto_not_0_model[1]) for _ in range(SS)]\n",
    "bru_simulation_prod_df = pd.DataFrame(bru_simulation_prod, columns=['production'])\n",
    "sto_simulation_prod_df = pd.DataFrame(sto_simulation_prod, columns=['production'])\n"
   ],
   "outputs": [],
   "execution_count": null
  },
  {
   "cell_type": "code",
   "id": "7068038c",
   "metadata": {},
   "source": [
    "# Beide Density Histogrammen in 1 figuur\n",
    "fig, axs = plt.subplots(nrows=1, ncols=2, figsize=(10, 4))\n",
    "\n",
    "# Plot histograms for BRU\n",
    "Tools.plot_histogram(dfpbru, \"production\", axs[0], colorp='b', alphap=0.2, densityp=True)\n",
    "Tools.plot_histogram(bru_simulation_prod_df, \"production\", axs[0],title='BRU actual vs. simulated', colorp='r', alphap=0.2, densityp=True)\n",
    "\n",
    "# Plot histograms for STO\n",
    "Tools.plot_histogram(dfpsto, \"production\", axs[1], colorp='b', alphap=0.2, densityp=True)\n",
    "Tools.plot_histogram(sto_simulation_prod_df, \"production\", axs[1], title='STO actual vs. simulated', colorp='r', alphap=0.2, densityp=True)\n",
    "\n",
    "# Enhance the plots\n",
    "axs[0].legend(['Actual', 'Simulated'])\n",
    "axs[1].legend(['Actual', 'Simulated'])\n",
    "plt.tight_layout()"
   ],
   "outputs": [],
   "execution_count": null
  },
  {
   "cell_type": "markdown",
   "id": "55c62861",
   "metadata": {},
   "source": [
    "### Simulatie van totale productie over periode van n dagen"
   ]
  },
  {
   "cell_type": "code",
   "id": "d5162b06",
   "metadata": {},
   "source": [
    "n = 7\n",
    "SS = 2000\n",
    "bru_simulation_prodn = [sum([Tools.model_prod(bru_perc_0, dfpbru_not_0_model[0], dfpbru_not_0_model[1]) for _ in range(n)]) for k in range(SS)]\n",
    "sto_simulation_prodn = [sum([Tools.model_prod(sto_perc_0, dfpsto_not_0_model[0], dfpsto_not_0_model[1]) for _ in range(n)]) for k in range(SS)]\n",
    "bru_simulation_prodn_df = pd.DataFrame(bru_simulation_prodn, columns=['production'])\n",
    "sto_simulation_prodn_df = pd.DataFrame(sto_simulation_prodn, columns=['production'])"
   ],
   "outputs": [],
   "execution_count": null
  },
  {
   "cell_type": "code",
   "id": "8c6f4871",
   "metadata": {},
   "source": [
    "fig, axs = plt.subplots(nrows=1, ncols=2, figsize=(10, 4))\n",
    "Tools.plot_histogram(bru_simulation_prodn_df, \"production\", axs[0], title=f'BRU simulation {n} days')\n",
    "Tools.plot_histogram(sto_simulation_prodn_df, \"production\", axs[1], title=f'STO simulation {n} days')\n",
    "plt.tight_layout()\n"
   ],
   "outputs": [],
   "execution_count": null
  },
  {
   "metadata": {},
   "cell_type": "code",
   "source": [
    "# Berekenen ECDF\n",
    "bru_ecdf = ECDF(bru_simulation_prodn)\n",
    "sto_ecdf = ECDF(sto_simulation_prodn)\n",
    "\n",
    "print(f\"\\033[4mECDF BRU: PRODUCTION FOR {n} DAYS\\033[0m\")\n",
    "print(f'P(x<25%): {bru_ecdf(dicmsr[\"BRU msr\"] * 0.25 * n):.3f}')\n",
    "print(f'P(x<50%): {bru_ecdf(dicmsr[\"BRU msr\"] * 0.50 * n):.3f}')\n",
    "print(f'P(x<75%): {bru_ecdf(dicmsr[\"BRU msr\"] * 0.75 * n):.3f}')\n",
    "print()\n",
    "print(f\"\\033[4mECDF STO: PRODUCTION FOR {n} DAYS\\033[0m\")\n",
    "print(f'P(x<25%): {sto_ecdf(dicmsr[\"STO msr\"] * 0.25 * n):.3f}')\n",
    "print(f'P(x<50%): {sto_ecdf(dicmsr[\"STO msr\"] * 0.50 * n):.3f}')\n",
    "print(f'P(x<75%): {sto_ecdf(dicmsr[\"STO msr\"] * 0.75 * n):.3f}')\n",
    "\n",
    "\n",
    "\n",
    "\n"
   ],
   "id": "fc48b46197898e22",
   "outputs": [],
   "execution_count": null
  },
  {
   "metadata": {},
   "cell_type": "code",
   "source": [
    "# Plot ECDF\n",
    "fig, axs = plt.subplots(1, 2, figsize=(10, 5))  # 1 row, 2 columns\n",
    "\n",
    "# Call the plotting function for each subplot\n",
    "Tools.plot_ecdf(bru_ecdf, axs[0], f'ECDF for BRU {n} DAYS')\n",
    "Tools.plot_ecdf(sto_ecdf, axs[1], f'ECDF for STO {n} DAYS')\n",
    "plt.tight_layout()  # Adjust layout\n"
   ],
   "id": "56e8a50b4ae87d2a",
   "outputs": [],
   "execution_count": null
  },
  {
   "metadata": {},
   "cell_type": "code",
   "source": "",
   "id": "6b375067d2277bd3",
   "outputs": [],
   "execution_count": null
  }
 ],
 "metadata": {
  "kernelspec": {
   "display_name": "Python 3 (ipykernel)",
   "language": "python",
   "name": "python3"
  },
  "language_info": {
   "codemirror_mode": {
    "name": "ipython",
    "version": 3
   },
   "file_extension": ".py",
   "mimetype": "text/x-python",
   "name": "python",
   "nbconvert_exporter": "python",
   "pygments_lexer": "ipython3",
   "version": "3.11.5"
  }
 },
 "nbformat": 4,
 "nbformat_minor": 5
}
